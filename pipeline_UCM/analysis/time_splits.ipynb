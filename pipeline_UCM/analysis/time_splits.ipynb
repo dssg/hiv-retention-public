{
 "cells": [
  {
   "cell_type": "markdown",
   "metadata": {},
   "source": [
    "# Chart of training/test sets over time\n",
    "For a given set of models (identified by the model comment), plot the time periods for each training/test split"
   ]
  },
  {
   "cell_type": "code",
   "execution_count": null,
   "metadata": {},
   "outputs": [],
   "source": [
    "%load_ext autoreload\n",
    "%autoreload 2\n",
    "\n",
    "%pylab inline"
   ]
  },
  {
   "cell_type": "code",
   "execution_count": null,
   "metadata": {},
   "outputs": [],
   "source": [
    "import pandas as pd\n",
    "import seaborn as sns\n",
    "from sqlalchemy import create_engine\n",
    "import os\n",
    "from matplotlib import pyplot as plt\n",
    "import matplotlib.dates as mdates\n",
    "import matplotlib.patches as mpatches\n",
    "import itertools\n",
    "import logging\n",
    "\n",
    "logging.basicConfig(level=logging.DEBUG)\n",
    "\n",
    "from IPython.display import Image\n",
    "from IPython.core.interactiveshell import InteractiveShell\n",
    "InteractiveShell.ast_node_interactivity = \"all\""
   ]
  },
  {
   "cell_type": "code",
   "execution_count": null,
   "metadata": {},
   "outputs": [],
   "source": [
    "dburl = os.environ['DBURL']\n",
    "engine = create_engine(dburl)"
   ]
  },
  {
   "cell_type": "markdown",
   "metadata": {},
   "source": [
    "------"
   ]
  },
  {
   "cell_type": "code",
   "execution_count": null,
   "metadata": {},
   "outputs": [],
   "source": [
    "model_comment = 'ucm_access_6months_production_models'"
   ]
  },
  {
   "cell_type": "markdown",
   "metadata": {},
   "source": [
    "---- \n",
    "<a id='time_chop'></a>"
   ]
  },
  {
   "cell_type": "markdown",
   "metadata": {},
   "source": [
    "# Checking time splits"
   ]
  },
  {
   "cell_type": "code",
   "execution_count": null,
   "metadata": {},
   "outputs": [],
   "source": [
    "#grab time split \n",
    "with open('../../../pipeline_CDPH_3.0/analysis/sql/time_splits.sql') as f:\n",
    "    q = f.read()\n",
    "q = q.replace('model_comment_holder',model_comment)\n",
    "q = f\"\"\"\n",
    "    select\n",
    "        distinct\n",
    "        a.evaluation_start_time as train_start_time,\n",
    "        a.evaluation_end_time as train_end_time,\n",
    "        b.evaluation_start_time as test_start_time,\n",
    "        b.evaluation_end_time as test_end_time,\n",
    "        m_id.training_label_timespan as train_label_timespan,\n",
    "        mat.labeling_window as test_label_timespan\n",
    "    from model_metadata.models as m_id\n",
    "    left join train_results.evaluations as a using (model_id)\n",
    "    left join test_results.evaluations as b using (model_id)\n",
    "    left join model_metadata.matrices as mat\n",
    "        on mat.matrix_uuid = b.matrix_uuid\n",
    "    where\n",
    "        a.metric = 'precision@'\n",
    "        and a.parameter ='100.0_pct'\n",
    "        and model_group_id = 20854\n",
    "    order by train_start_time, train_end_time, test_start_time, test_end_time desc\n",
    ";\n",
    "    \"\"\"\n",
    "q"
   ]
  },
  {
   "cell_type": "code",
   "execution_count": null,
   "metadata": {},
   "outputs": [],
   "source": [
    "df_time_split = pd.read_sql(q, engine,\n",
    "                            parse_dates=['train_start_time','train_end_time','test_start_time','test_end_time'])"
   ]
  },
  {
   "cell_type": "code",
   "execution_count": null,
   "metadata": {},
   "outputs": [],
   "source": [
    "df_time_split"
   ]
  },
  {
   "cell_type": "code",
   "execution_count": null,
   "metadata": {},
   "outputs": [],
   "source": [
    "sns.set_style(\"whitegrid\")\n",
    "sns.set_context(\"poster\", font_scale=1, rc={\"lines.linewidth\": 1,\"lines.markersize\":4})\n",
    "\n",
    "fig, ax = plt.subplots(1, figsize=(16, 8))\n",
    "for y, time_val in df_time_split.iterrows():\n",
    "    train_start, train_end, test_start, test_end, train_label_timespan, test_label_timespan = time_val\n",
    "    _ = plt.plot([train_start,train_end], [y,y],marker='o',color='red')\n",
    "    _ = plt.plot([train_end,train_end+train_label_timespan], [y,y],marker='',linestyle='--',color='red')\n",
    "    _ = plt.plot([test_start,test_start+test_label_timespan], [y,y],marker='o',linestyle='-',color='blue')\n",
    "    _ = plt.plot([test_start,test_end+test_label_timespan], [y,y],marker='',linestyle='--',color='blue')\n",
    "_ = ax.axes.yaxis.set_ticklabels([])\n",
    "_ = plt.ylabel('Model Building and\\nValidation Cohorts')\n",
    "_ = plt.xlabel('Time')\n",
    "legend_list = []\n",
    "legend_list.append(mpatches.Patch(color='red', label='Model Building Cohort'))\n",
    "legend_list.append(mpatches.Patch(color='blue', label='Validation Cohort'))\n",
    "\n",
    "# display the graph.\n",
    "plt.legend(handles=legend_list)\n",
    " \n",
    "sns.despine()\n",
    "plt.show()"
   ]
  }
 ],
 "metadata": {
  "kernelspec": {
   "display_name": "Python 3",
   "language": "python",
   "name": "python3"
  },
  "language_info": {
   "codemirror_mode": {
    "name": "ipython",
    "version": 3
   },
   "file_extension": ".py",
   "mimetype": "text/x-python",
   "name": "python",
   "nbconvert_exporter": "python",
   "pygments_lexer": "ipython3",
   "version": "3.6.6"
  }
 },
 "nbformat": 4,
 "nbformat_minor": 2
}
