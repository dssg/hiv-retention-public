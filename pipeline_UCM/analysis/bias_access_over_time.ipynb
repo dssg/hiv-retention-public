{
 "cells": [
  {
   "cell_type": "code",
   "execution_count": null,
   "metadata": {},
   "outputs": [],
   "source": [
    "%load_ext autoreload\n",
    "%autoreload 2\n",
    "\n",
    "import os\n",
    "from sqlalchemy import create_engine\n",
    "\n",
    "import pandas as pd\n",
    "import seaborn as sns\n",
    "import matplotlib.pyplot as plt\n",
    "\n",
    "import utils\n",
    "\n",
    "from IPython.display import Image\n",
    "from IPython.core.interactiveshell import InteractiveShell\n",
    "InteractiveShell.ast_node_interactivity = \"all\"\n",
    "\n",
    "dburl = os.environ['DBURL']\n",
    "engine = create_engine(dburl)"
   ]
  },
  {
   "cell_type": "markdown",
   "metadata": {},
   "source": [
    "-----"
   ]
  },
  {
   "cell_type": "code",
   "execution_count": null,
   "metadata": {},
   "outputs": [],
   "source": [
    "best_6months = {'sklearn.ensemble.RandomForestClassifier': 20854,\n",
    "                'triage.component.catwalk.estimators.classifiers.ScaledLogisticRegression': 20892,\n",
    "                'Expert Rules': 21065\n",
    "               }\n",
    "best_mgs_by_for = [20890, 20888, 20868] # the best model groups selected by low disparity based on FOR by race\n",
    "\n",
    "mgs_labels = {\n",
    "    20854: 'Random Forest (1000 trees, no max depth)',\n",
    "    20892: \"Logistic Regression (L1 penalty, C=0.1)\",\n",
    "    21065: \"Expert Baseline\",\n",
    "    20890: \"Logistic Regression (L1 penalty, C=0.001)\",\n",
    "    20888: \"Logistic Regression (L1 penalty, C=0.00001)\",\n",
    "    20868: \"Decision Tree (no max depth)\"\n",
    "}\n",
    "colors = {\n",
    "    20854: '#00A1D5FF',\n",
    "    20892: \"#79AF97FF\",\n",
    "    21065: \"#B24745FF\",\n",
    "    20890: '#374E55FF', \n",
    "    20888: '#374E55FF', \n",
    "    20868: '#374E55FF'\n",
    "}\n",
    "\n",
    "best_access_mid = model_id_to_plot = utils.get_model_id_at_time(best_6months['sklearn.ensemble.RandomForestClassifier'], '2015-01-01')"
   ]
  },
  {
   "cell_type": "code",
   "execution_count": null,
   "metadata": {
    "scrolled": true
   },
   "outputs": [],
   "source": [
    "access_models_for = pd.DataFrame()\n",
    "demo = utils.get_demographics(best_access_mid) # just demographics; combine with predictions later\n",
    "\n",
    "metric = 'precision@'\n",
    "parameter = '10.0_pct'\n",
    "for mg_id in list(best_6months.values()) + best_mgs_by_for:\n",
    "    print(\"----------------------------\\n\", mg_id)\n",
    "    for_race = []\n",
    "    p_at_10 = utils.get_model_evaluation_with_model(mg_id, metric, parameter) #utils.get_p_at_(m['model_id'], metric, parameter)\n",
    "    for i, (m) in utils.get_models_same_mg(mg_id).iterrows():\n",
    "        m_id = m['model_id']\n",
    "        for_race = utils.get_for_race(m_id, demo)\n",
    "        access_models_for = access_models_for.append({'model_group_id': mg_id, 'model_id': m_id,\n",
    "                            'train_end_time': m['train_end_time'],\n",
    "                            'p_at_10': p_at_10[p_at_10.model_id==m_id]['value'].values[0],\n",
    "                            'for': for_race,\n",
    "                       }, ignore_index=True)"
   ]
  },
  {
   "cell_type": "code",
   "execution_count": null,
   "metadata": {},
   "outputs": [],
   "source": [
    "metric = 'precision@'\n",
    "parameter = '10.0_pct'\n",
    "sns.set_style(\"whitegrid\")\n",
    "\n",
    "fig, ax = plt.subplots(1,figsize=(24, 10))\n",
    "sns.set_context(\"poster\", font_scale=1, rc={\"lines.linewidth\": 4,\"lines.markersize\":12})\n",
    "_ = plt.ylabel(f'{metric}:{parameter}')\n",
    "\n",
    "for model_group_id in best_mgs_by_for:\n",
    "    d = access_models_for[access_models_for.model_group_id == model_group_id].sort_values('train_end_time')\n",
    "    _ = plt.plot(d.train_end_time, d['for'], label=mgs_labels[model_group_id],\n",
    "                 marker='o',linestyle='-',color=colors[model_group_id], alpha=0.8)\n",
    "for clf, model_group_id in best_6months.items():\n",
    "    d = access_models_for[access_models_for.model_group_id == model_group_id].sort_values('train_end_time')\n",
    "    _ = plt.plot(d.train_end_time, d['for'], label=mgs_labels[model_group_id],\n",
    "                 marker='o',linestyle='-',color=colors[model_group_id])\n",
    "\n",
    "_ = plt.ylabel(r\"$\\frac{FOR_{Black}}{FOR_{White}}$\", fontsize=24)\n",
    "_ = plt.xlabel(\"Year of Appointment for Validation Cohort\", fontsize=24)\n",
    "_ = plt.ylim(0.5, 1.8)    \n",
    "_ = ax.axhspan(0.9, 1.1, alpha=0.3, color='#6A659999')\n",
    "   \n",
    "_ = plt.legend()\n",
    "plt.show()"
   ]
  },
  {
   "cell_type": "code",
   "execution_count": null,
   "metadata": {},
   "outputs": [],
   "source": [
    "disp = access_models_for[access_models_for.model_group_id.isin(best_mgs_by_for + list(best_6months.values()))]\n",
    "disp = disp.groupby('model_group_id')[['for', 'p_at_10']].describe(percentiles=[0.05, 0.25, 0.5, 0.75, 0.95])\n",
    "disp.columns = ['_'.join(col).strip() for col in disp.columns.values]"
   ]
  },
  {
   "cell_type": "code",
   "execution_count": null,
   "metadata": {},
   "outputs": [],
   "source": [
    "def plot_2d_boxplot(plt, d, c, label):\n",
    "    #r = d.for_max - d.for_min\n",
    "    _    = plt.plot(d.p_at_10_mean, d.for_mean, marker='o', linestyle='', color=c, label=label)\n",
    "    _ = plt.errorbar(d.p_at_10_mean, d.for_mean, \n",
    "                 xerr=[d.p_at_10_mean-d['p_at_10_25%'],d['p_at_10_75%']-d.p_at_10_mean], \n",
    "                 marker='', linestyle='', color=c, linewidth=10)\n",
    "    _ = plt.errorbar(d.p_at_10_mean, d.for_mean, \n",
    "                 xerr=[d.p_at_10_mean-d['p_at_10_5%'],d['p_at_10_95%']-d.p_at_10_mean], \n",
    "                 marker='', linestyle='', color=c)\n",
    "    _ = plt.errorbar(d.p_at_10_mean, d.for_mean, \n",
    "                 yerr=[d.for_mean-d['for_25%'],d['for_75%']-d.for_mean], \n",
    "                 marker='', linestyle='', color=c, linewidth=10)\n",
    "    _ = plt.errorbar(d.p_at_10_mean, d.for_mean, \n",
    "                 yerr=[d.for_mean-d['for_5%'],d['for_95%']-d.for_mean], \n",
    "                 marker='', linestyle='', color=c)\n",
    "    return(plt)\n"
   ]
  },
  {
   "cell_type": "code",
   "execution_count": null,
   "metadata": {},
   "outputs": [],
   "source": [
    "sns.set_style('whitegrid')                                                                                                                                      \n",
    "sns.set_context(\"poster\", font_scale=1, rc={\"lines.linewidth\": 2.25,\"lines.markersize\":20})                                                                  \n",
    "fig, ax = plt.subplots(1,1,figsize=(24,10))\n",
    "\n",
    "for i, row in disp.groupby('model_group_id'):\n",
    "    plt = plot_2d_boxplot(plt, row, colors[i], mgs_labels[i])\n",
    "_ = ax.axhspan(0.9, 1.1, alpha=0.3, color='#6A659999')\n",
    "_ = plt.ylabel(r'$\\frac{FOR_{Black}}{FOR_{White}}$', fontsize=40)\n",
    "_ = plt.xlabel(\"Average Positive Predictive Value for top 10%\")\n",
    "_ = plt.ylim(0.5, 1.8)\n",
    "h, l = ax.get_legend_handles_labels()\n",
    "new_h = []\n",
    "new_l = []\n",
    "for i in range(0, len(h)):\n",
    "    if 'mean' in l[i]:\n",
    "        continue\n",
    "    new_h.append(h[i])\n",
    "    new_l.append(l[i])\n",
    "_ = plt.legend(new_h, new_l, ncol=2, loc=\"upper center\")\n",
    "plt.show()"
   ]
  }
 ],
 "metadata": {
  "kernelspec": {
   "display_name": "Python 3",
   "language": "python",
   "name": "python3"
  },
  "language_info": {
   "codemirror_mode": {
    "name": "ipython",
    "version": 3
   },
   "file_extension": ".py",
   "mimetype": "text/x-python",
   "name": "python",
   "nbconvert_exporter": "python",
   "pygments_lexer": "ipython3",
   "version": "3.6.6"
  }
 },
 "nbformat": 4,
 "nbformat_minor": 2
}
