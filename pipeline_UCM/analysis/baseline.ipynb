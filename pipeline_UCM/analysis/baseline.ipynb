{
 "cells": [
  {
   "cell_type": "markdown",
   "metadata": {},
   "source": [
    "# Plots of baseline by Appointments and by Patients"
   ]
  },
  {
   "cell_type": "code",
   "execution_count": null,
   "metadata": {},
   "outputs": [],
   "source": [
    "import matplotlib.pyplot as plt\n",
    "import seaborn as sns\n",
    "\n",
    "import os\n",
    "from sqlalchemy import create_engine\n",
    "\n",
    "import pandas as pd"
   ]
  },
  {
   "cell_type": "code",
   "execution_count": null,
   "metadata": {},
   "outputs": [],
   "source": [
    "%matplotlib inline\n",
    "\n",
    "from IPython.display import Image"
   ]
  },
  {
   "cell_type": "code",
   "execution_count": null,
   "metadata": {},
   "outputs": [],
   "source": [
    "pd.options.display.max_columns = 200\n",
    "\n",
    "from IPython.core.interactiveshell import InteractiveShell\n",
    "InteractiveShell.ast_node_interactivity = \"all\""
   ]
  },
  {
   "cell_type": "code",
   "execution_count": null,
   "metadata": {},
   "outputs": [],
   "source": [
    "dburl = os.environ['DBURL']\n",
    "engine = create_engine(dburl)\n",
    "connection = engine.connect()"
   ]
  },
  {
   "cell_type": "markdown",
   "metadata": {},
   "source": [
    "----"
   ]
  },
  {
   "cell_type": "code",
   "execution_count": null,
   "metadata": {},
   "outputs": [],
   "source": [
    "query = f\"\"\"select entity_id, outcome_date::date as outcome_date,\n",
    "    outcome\n",
    "    from events_on_appt_dates_cs\n",
    "    where outcome_date is not null\n",
    "    and extract(year from outcome_date) < 2016;\"\"\"\n",
    "data_retention = pd.read_sql(query, connection)\n",
    "data_retention['year'] = data_retention['outcome_date'].apply(lambda x: x.year)\n",
    "\n",
    "query = f\"\"\"select entity_id, outcome_date::date as outcome_date,\n",
    "    no_access_6mo::bool as outcome\n",
    "    from access_ucm_6months\n",
    "    where outcome_date is not null\n",
    "    and extract(year from outcome_date) < 2016;\"\"\"\n",
    "data_access = pd.read_sql(query, connection)\n",
    "data_access['year'] = data_access['outcome_date'].apply(lambda x: x.year)"
   ]
  },
  {
   "cell_type": "code",
   "execution_count": null,
   "metadata": {},
   "outputs": [],
   "source": [
    "def get_baseline_by_appt_patient(data):\n",
    "    df1 = data.groupby('year')['entity_id'].nunique().to_frame().reset_index()\n",
    "    df2 = data[data.outcome].groupby('year')['entity_id'].nunique().to_frame().reset_index()\n",
    "    df_patient = df1.merge(df2, on='year')\n",
    "\n",
    "    df_patient = df_patient.rename(index=str, columns={\"entity_id_y\": \"count_ooc\", \"entity_id_x\":\"count\"})\n",
    "    df_patient.loc[:, \"frac_out_of_care\"] = df_patient[\"count_ooc\"]/df_patient[\"count\"]\n",
    "\n",
    "    df1 = data.groupby('year')['entity_id'].count().to_frame().reset_index()\n",
    "    df2 = data[data.outcome].groupby('year')['entity_id'].count().to_frame().reset_index()\n",
    "    df_appt = df1.merge(df2, on='year')\n",
    "\n",
    "    df_appt = df_appt.rename(index=str, columns={\"entity_id_y\": \"count_ooc\", \"entity_id_x\":\"count\"})\n",
    "    df_appt.loc[:, \"frac_out_of_care\"] = df_appt[\"count_ooc\"]/df_appt[\"count\"]\n",
    "    \n",
    "    return(df_appt, df_patient)"
   ]
  },
  {
   "cell_type": "code",
   "execution_count": null,
   "metadata": {},
   "outputs": [],
   "source": [
    "df_retention_appt, df_retention_patient = get_baseline_by_appt_patient(data_retention)\n",
    "df_access_appt, df_access_patient = get_baseline_by_appt_patient(data_access)"
   ]
  },
  {
   "cell_type": "code",
   "execution_count": null,
   "metadata": {},
   "outputs": [],
   "source": [
    "plt.close('all')\n",
    "sns.set_style('whitegrid', {'axes.grid' : False})\n",
    "sns.set_context(\"poster\", font_scale=1, rc={\"lines.linewidth\": 3,\"lines.markersize\":12})\n",
    "plt.rc('xtick', labelsize='small')\n",
    "plt.rc('ytick', labelsize='small')\n",
    "\n",
    "fig, ax = plt.subplots(1,figsize=(18, 8))\n",
    "\n",
    "_ = ax.plot(df_retention_patient[\"year\"], df_retention_patient[\"frac_out_of_care\"], '--', marker='o', color='#374E55FF', label=\"Retention\")\n",
    "_ = ax.plot(df_access_patient[\"year\"], df_access_patient[\"frac_out_of_care\"], '--', marker='^', color='#DF8F44FF', label=\"Access in 6 months\")\n",
    "\n",
    "_ = plt.ylim(0,1)\n",
    "_ = ax.set_xlabel('Year')\n",
    "_ = ax.set_ylabel('Percentage of Patients Out of Care', color='black')\n",
    "_ = ax.tick_params('y', colors='black')\n",
    "_ = plt.legend(bbox_to_anchor=(0., 1, 1., -0.05), loc=9,ncol=2, borderaxespad=0.)\n",
    "vals = ax.get_yticks()\n",
    "_ = ax.set_yticklabels(['{:.0%}'.format(x) for x in vals])\n",
    "ax.yaxis.tick_left()\n",
    "ax.xaxis.tick_bottom()\n",
    "fig.tight_layout()"
   ]
  },
  {
   "cell_type": "code",
   "execution_count": null,
   "metadata": {},
   "outputs": [],
   "source": [
    "plt.close('all')\n",
    "sns.set_style('whitegrid', {'axes.grid' : False})\n",
    "sns.set_context(\"poster\", font_scale=1, rc={\"lines.linewidth\": 3,\"lines.markersize\":12})\n",
    "plt.rc('xtick', labelsize='small')\n",
    "plt.rc('ytick', labelsize='small')\n",
    "\n",
    "fig, ax = plt.subplots(1,figsize=(18, 8))\n",
    "\n",
    "_ = ax.plot(df_retention_appt[\"year\"], df_retention_appt[\"frac_out_of_care\"], '-', marker='o', color='#374E55FF', label=\"Retention\")\n",
    "_ = ax.plot(df_access_appt[\"year\"], df_access_appt[\"frac_out_of_care\"], '-', marker='^', color='#DF8F44FF', label=\"Access in 6 months\")\n",
    "\n",
    "_ = plt.ylim(0,1)\n",
    "_ = ax.set_xlabel('Year')\n",
    "_ = ax.set_ylabel('Percentage of Appointments Out of Care', color='black')\n",
    "_ = ax.tick_params('y', colors='black')\n",
    "_ = plt.legend(bbox_to_anchor=(0., 1, 1., -0.05), loc=9,ncol=2, borderaxespad=0.)\n",
    "vals = ax.get_yticks()\n",
    "_ = ax.set_yticklabels(['{:.0%}'.format(x) for x in vals])\n",
    "ax.yaxis.tick_left()\n",
    "ax.xaxis.tick_bottom()\n",
    "fig.tight_layout()"
   ]
  }
 ],
 "metadata": {
  "kernelspec": {
   "display_name": "Python 3",
   "language": "python",
   "name": "python3"
  },
  "language_info": {
   "codemirror_mode": {
    "name": "ipython",
    "version": 3
   },
   "file_extension": ".py",
   "mimetype": "text/x-python",
   "name": "python",
   "nbconvert_exporter": "python",
   "pygments_lexer": "ipython3",
   "version": "3.6.6"
  }
 },
 "nbformat": 4,
 "nbformat_minor": 2
}
