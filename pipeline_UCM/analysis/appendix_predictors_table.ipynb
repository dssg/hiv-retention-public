{
 "cells": [
  {
   "cell_type": "markdown",
   "metadata": {},
   "source": [
    "# Print latex code for appendix table\n",
    "Table contains list of all features used and their feature group"
   ]
  },
  {
   "cell_type": "code",
   "execution_count": null,
   "metadata": {},
   "outputs": [],
   "source": [
    "%load_ext autoreload\n",
    "%autoreload 2\n",
    "\n",
    "import pandas as pd\n",
    "import os\n",
    "from sqlalchemy import create_engine\n",
    "\n",
    "import utils \n",
    "from IPython.display import Image\n",
    "from IPython.core.interactiveshell import InteractiveShell\n",
    "InteractiveShell.ast_node_interactivity = \"all\"\n",
    "\n",
    "dburl = os.environ['DBURL']\n",
    "engine = create_engine(dburl)\n",
    "\n",
    "path_to_models = '/gpfs/data/dsapp-lab/triage-production_runs_small/trained_models/'\n",
    "path_to_matrices = '/gpfs/data/dsapp-lab/triage-production_runs_small/matrices/'"
   ]
  },
  {
   "cell_type": "markdown",
   "metadata": {},
   "source": [
    "-----"
   ]
  },
  {
   "cell_type": "code",
   "execution_count": null,
   "metadata": {},
   "outputs": [],
   "source": [
    "model_id_to_use = 87704 "
   ]
  },
  {
   "cell_type": "code",
   "execution_count": null,
   "metadata": {
    "scrolled": false
   },
   "outputs": [],
   "source": [
    "q = f'''select * from \n",
    "    train_results.feature_importances\n",
    "    where model_id = {model_id_to_use}\n",
    "    and feature_importance > 0\n",
    "    order by feature_importance desc;\n",
    "    '''\n",
    "df_feat = pd.read_sql(q,engine)\n",
    "df_feat['fg'] = df_feat['feature'].apply(lambda x: utils.get_prettified_feature_group(x))\n",
    "df_feat['f'] = df_feat['feature'].apply(lambda x: utils.make_pretty(x))\n",
    "\n",
    "df_feat[df_feat.fg =='Retention History']"
   ]
  },
  {
   "cell_type": "code",
   "execution_count": null,
   "metadata": {},
   "outputs": [],
   "source": [
    "print(df_feat.loc[~df_feat.feature.str.contains(\"imp\"),[\"f\", \"fg\"]].sort_values('fg').to_latex(index=False, escape=False))"
   ]
  },
  {
   "cell_type": "code",
   "execution_count": null,
   "metadata": {},
   "outputs": [],
   "source": []
  }
 ],
 "metadata": {
  "kernelspec": {
   "display_name": "Python 3",
   "language": "python",
   "name": "python3"
  },
  "language_info": {
   "codemirror_mode": {
    "name": "ipython",
    "version": 3
   },
   "file_extension": ".py",
   "mimetype": "text/x-python",
   "name": "python",
   "nbconvert_exporter": "python",
   "pygments_lexer": "ipython3",
   "version": "3.6.6"
  }
 },
 "nbformat": 4,
 "nbformat_minor": 2
}
