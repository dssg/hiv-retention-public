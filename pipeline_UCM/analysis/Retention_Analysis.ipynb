{
 "cells": [
  {
   "cell_type": "code",
   "execution_count": null,
   "metadata": {},
   "outputs": [],
   "source": [
    "%pylab inline\n",
    "import pandas as pd\n",
    "import seaborn as sns\n",
    "import os \n",
    "import hivanalysis as hiv\n",
    "from sqlalchemy import create_engine\n",
    "import hivanalysis.performance_figures"
   ]
  },
  {
   "cell_type": "code",
   "execution_count": null,
   "metadata": {},
   "outputs": [],
   "source": [
    "dburl = os.environ['DBURL']\n",
    "engine = create_engine(dburl)"
   ]
  },
  {
   "cell_type": "markdown",
   "metadata": {},
   "source": [
    "# Overall Performance "
   ]
  },
  {
   "cell_type": "code",
   "execution_count": null,
   "metadata": {},
   "outputs": [],
   "source": [
    "#grab the best random forest model\n",
    "best_random_forest = 20602"
   ]
  },
  {
   "cell_type": "code",
   "execution_count": null,
   "metadata": {},
   "outputs": [],
   "source": [
    "df_rf_20602_10pct = hiv.get_model_performance(best_random_forest,engine)\n",
    "df_rf_20602_5pct = hiv.get_model_performance(best_random_forest,engine,parameter='5.0_pct')\n",
    "df_prior = hiv.get_model_performance(19054,engine)\n",
    "df_baseline_slr = hiv.get_model_performance(19513,engine)\n",
    "df_19004 = hiv.get_model_performance(19004,engine)\n",
    "df_dt_20615 = hiv.get_model_performance(20615,engine)"
   ]
  },
  {
   "cell_type": "code",
   "execution_count": null,
   "metadata": {},
   "outputs": [],
   "source": [
    "sns.set_style(\"whitegrid\")\n",
    "fig, ax = plt.subplots(1,figsize=(48, 24))\n",
    "sns.set_context(\"poster\", font_scale=2, rc={\"lines.linewidth\": 1.25,\"lines.markersize\":18})\n",
    "plt.ylim(0,.4)\n",
    "plt.ylabel('precision@10%')\n",
    "\n",
    "plt.plot(df_rf_20602_10pct.evaluation_start_time,df_rf_20602_10pct.value, \n",
    "         color='green', marker='o', linestyle='-',linewidth=6, label='rf_20602_10pct')\n",
    "\n",
    "plt.plot(df_prior.evaluation_start_time,df_prior.value, \n",
    "         color='grey', marker='o', linestyle='-',linewidth=6, label='prior')\n",
    "\n",
    "plt.plot(df_baseline_slr.evaluation_start_time,df_baseline_slr.value, \n",
    "         color='black', marker='o', linestyle='-',linewidth=6, label='baseline')\n",
    "\n",
    "plt.plot(df_dt_20615.evaluation_start_time,df_dt_20615.value, \n",
    "         color='red', marker='o', linestyle='-',linewidth=6, label='dt_20615_10pct')\n",
    "\n",
    "\n",
    "#plt.plot(df_19004.evaluation_start_time,df_19004.value, \n",
    "#         color='red', marker='o', linestyle='-',linewidth=6, label='19004_model_group')\n",
    "\n",
    "\n",
    "plt.legend(bbox_to_anchor=(0., 1.005, 1., .102), loc=7,ncol=4, borderaxespad=0.)\n",
    "sns.despine()\n"
   ]
  },
  {
   "cell_type": "code",
   "execution_count": null,
   "metadata": {},
   "outputs": [],
   "source": [
    "sns.set_style(\"white\")\n",
    "fig, ax = plt.subplots(1,figsize=(48, 24))\n",
    "sns.set_context(\"poster\", font_scale=2, rc={\"lines.linewidth\": 1.25,\"lines.markersize\":18})\n",
    "plt.ylim(0,.4)\n",
    "plt.ylabel('precision@10%')\n",
    "\n",
    "plt.plot(df_rf_20602_10pct.evaluation_start_time,df_rf_20602_10pct.value, \n",
    "         color='blue', marker='o', linestyle='-',linewidth=6, label='model')\n",
    "\n",
    "plt.plot(df_prior.evaluation_start_time,df_prior.value, \n",
    "         color='grey', marker='o', linestyle='-',linewidth=10, label='baserate')\n",
    "\n",
    "plt.plot(df_baseline_slr.evaluation_start_time,df_baseline_slr.value, \n",
    "         color='black', marker='o', linestyle='-',linewidth=6, label='expert rule')\n",
    "\n",
    "#plt.plot(df_dt_20615.evaluation_start_time,df_dt_20615.value, \n",
    "#         color='red', marker='o', linestyle='-',linewidth=6, label='dt_20615_10pct')\n",
    "\n",
    "\n",
    "#plt.plot(df_19004.evaluation_start_time,df_19004.value, \n",
    "#         color='red', marker='o', linestyle='-',linewidth=6, label='19004_model_group')\n",
    "\n",
    "\n",
    "plt.legend(bbox_to_anchor=(0., 1.005, 1., .102), loc=7,ncol=4, borderaxespad=0.)\n",
    "sns.despine()\n"
   ]
  },
  {
   "cell_type": "code",
   "execution_count": null,
   "metadata": {},
   "outputs": [],
   "source": [
    "sns.set_style(\"white\")\n",
    "fig, ax = plt.subplots(1,figsize=(48, 24))\n",
    "sns.set_context(\"poster\", font_scale=2.75, rc={\"lines.linewidth\": 2.25,\"lines.markersize\":20})\n",
    "plt.ylim(0,.4)\n",
    "plt.ylabel('Fraction of Appts Correctly Identified')\n",
    "\n",
    "plt.plot(df_rf_20602_10pct.evaluation_start_time,df_rf_20602_10pct.value, \n",
    "         color='blue', marker='o', linestyle='-',linewidth=6, label='model')\n",
    "\n",
    "plt.plot(df_baseline_slr.evaluation_start_time,df_baseline_slr.value, \n",
    "         color='black', marker='o', linestyle='-',linewidth=6, label='expert rule')\n",
    "\n",
    "plt.plot(df_prior.evaluation_start_time,df_prior.value, \n",
    "         color='grey', marker='o', linestyle='-',linewidth=10, label='random')\n",
    "\n",
    "\n",
    "\n",
    "\n",
    "plt.legend(bbox_to_anchor=(0., 1.005, 1., .102), loc=7,ncol=4, borderaxespad=0.)\n",
    "sns.despine()\n",
    "\n",
    "plt.xlabel('year')\n",
    "plt.savefig('efficiency_ucm.png')"
   ]
  },
  {
   "cell_type": "code",
   "execution_count": null,
   "metadata": {},
   "outputs": [],
   "source": [
    "model_group_id = 20602\n",
    "q=f\"\"\"\n",
    "select\n",
    "    evaluation_start_time,\n",
    "    value\n",
    "from\n",
    "    test_results.evaluations\n",
    "where\n",
    "    model_id in (select distinct model_id from model_metadata.models where model_group_id = {model_group_id})\n",
    "    and metric = 'recall@'\n",
    "    and parameter = '10.0_pct'\n",
    "    and evaluation_start_time < '2016-01-01'::date\n",
    "\"\"\"\n",
    "df_recall_20602 = pd.read_sql(q,engine)"
   ]
  },
  {
   "cell_type": "code",
   "execution_count": null,
   "metadata": {},
   "outputs": [],
   "source": [
    "model_group_id = 19054\n",
    "q=f\"\"\"\n",
    "select\n",
    "    evaluation_start_time,\n",
    "    value\n",
    "from\n",
    "    test_results.evaluations\n",
    "where\n",
    "    model_id in (select distinct model_id from model_metadata.models where model_group_id = {model_group_id})\n",
    "    and metric = 'recall@'\n",
    "    and parameter = '10.0_pct'\n",
    "    and evaluation_start_time < '2016-01-01'::date\n",
    "\"\"\"\n",
    "df_recall_19054 = pd.read_sql(q,engine)"
   ]
  },
  {
   "cell_type": "code",
   "execution_count": null,
   "metadata": {},
   "outputs": [],
   "source": [
    "model_group_id = 19513\n",
    "q=f\"\"\"\n",
    "select\n",
    "    evaluation_start_time,\n",
    "    value\n",
    "from\n",
    "    test_results.evaluations\n",
    "where\n",
    "    model_id in (select distinct model_id from model_metadata.models where model_group_id = {model_group_id})\n",
    "    and metric = 'recall@'\n",
    "    and parameter = '10.0_pct'\n",
    "    and evaluation_start_time < '2016-01-01'::date\n",
    "\"\"\"\n",
    "df_recall_19513 = pd.read_sql(q,engine)"
   ]
  },
  {
   "cell_type": "code",
   "execution_count": null,
   "metadata": {},
   "outputs": [],
   "source": [
    "sns.set_style(\"white\")\n",
    "fig, ax = plt.subplots(1,figsize=(48, 24))\n",
    "sns.set_context(\"poster\", font_scale=2.75, rc={\"lines.linewidth\": 2.25,\"lines.markersize\":20})\n",
    "plt.ylim(0,.4)\n",
    "plt.ylabel('recall@10%')\n",
    "\n",
    "plt.plot(df_recall_20602.evaluation_start_time,df_recall_20602.value, \n",
    "         color='red', marker='o', linestyle='-',linewidth=6, label='model')\n",
    "\n",
    "plt.plot(df_recall_19054.evaluation_start_time,df_recall_19054.value, \n",
    "         color='grey', marker='o', linestyle='-',linewidth=10, label='baserate')\n",
    "\n",
    "plt.plot(df_recall_19513.evaluation_start_time,df_recall_19513.value, \n",
    "         color='black', marker='o', linestyle='-',linewidth=6, label='expert rule')\n",
    "\n",
    "\n",
    "plt.legend(bbox_to_anchor=(0., 1.005, 1., .102), loc=7,ncol=3, borderaxespad=0.)\n",
    "sns.despine()\n"
   ]
  },
  {
   "cell_type": "code",
   "execution_count": null,
   "metadata": {},
   "outputs": [],
   "source": [
    "sns.set_style(\"white\")\n",
    "fig, ax = plt.subplots(1,figsize=(48, 24))\n",
    "sns.set_context(\"poster\", font_scale=2, rc={\"lines.linewidth\": 1.25,\"lines.markersize\":18})\n",
    "plt.ylim(0,.4)\n",
    "plt.ylabel('Coverage of At-Risk Appointments')\n",
    "\n",
    "plt.plot(df_recall_20602.evaluation_start_time,df_recall_20602.value, \n",
    "         color='red', marker='o', linestyle='--',linewidth=6, label='model')\n",
    "\n",
    "\n",
    "\n",
    "plt.plot(df_recall_19513.evaluation_start_time,df_recall_19513.value, \n",
    "         color='black', marker='o', linestyle='--',linewidth=6, label='expert rule')\n",
    "\n",
    "plt.plot(df_recall_19054.evaluation_start_time,df_recall_19054.value, \n",
    "         color='grey', marker='o', linestyle='--',linewidth=10, label='random')\n",
    "\n",
    "plt.legend(bbox_to_anchor=(0., 1.005, 1., .102), loc=7,ncol=3, borderaxespad=0.)\n",
    "sns.despine()\n",
    "plt.xlabel('year')"
   ]
  },
  {
   "cell_type": "code",
   "execution_count": null,
   "metadata": {},
   "outputs": [],
   "source": [
    "sns.set_style(\"whitegrid\")\n",
    "fig, ax = plt.subplots(1,figsize=(48, 24))\n",
    "sns.set_context(\"poster\", font_scale=2, rc={\"lines.linewidth\": 1.25,\"lines.markersize\":18})\n",
    "plt.ylim(0,.4)\n",
    "plt.ylabel('recall@10%')\n",
    "\n",
    "plt.plot(df_recall_20602.evaluation_start_time,df_recall_20602.value, \n",
    "         color='green', marker='o', linestyle='--',linewidth=6, label='rf_20602')\n",
    "\n",
    "plt.plot(df_recall_19054.evaluation_start_time,df_recall_19054.value, \n",
    "         color='grey', marker='o', linestyle='--',linewidth=6, label='prior')\n",
    "\n",
    "plt.plot(df_recall_19513.evaluation_start_time,df_recall_19513.value, \n",
    "         color='black', marker='o', linestyle='--',linewidth=6, label='baseline')\n",
    "\n",
    "\n",
    "plt.legend(bbox_to_anchor=(0., 1.005, 1., .102), loc=7,ncol=3, borderaxespad=0.)\n",
    "sns.despine()"
   ]
  },
  {
   "cell_type": "code",
   "execution_count": null,
   "metadata": {},
   "outputs": [],
   "source": [
    "df_recall_20602"
   ]
  },
  {
   "cell_type": "code",
   "execution_count": null,
   "metadata": {},
   "outputs": [],
   "source": [
    "q='select model_id, train_end_time from model_metadata.models where model_group_id=20602;'\n",
    "df_model_ids = pd.read_sql(q,engine)"
   ]
  },
  {
   "cell_type": "code",
   "execution_count": null,
   "metadata": {},
   "outputs": [],
   "source": [
    "df_model_ids"
   ]
  },
  {
   "cell_type": "code",
   "execution_count": null,
   "metadata": {},
   "outputs": [],
   "source": [
    "import hivanalysis.feature_figures as hiv_feature"
   ]
  },
  {
   "cell_type": "code",
   "execution_count": null,
   "metadata": {},
   "outputs": [],
   "source": [
    "hiv_feature.plot_top_n_features(83735,topn=20)"
   ]
  },
  {
   "cell_type": "code",
   "execution_count": null,
   "metadata": {},
   "outputs": [],
   "source": [
    "top_n_features = hiv_feature.plot_top_n_features(83734, topn=20)"
   ]
  },
  {
   "cell_type": "code",
   "execution_count": null,
   "metadata": {
    "scrolled": false
   },
   "outputs": [],
   "source": [
    "for mdl_id in df_model_ids.model_id:\n",
    "    print(mdl_id)\n",
    "    hiv_feature.plot_top_n_features(mdl_id, topn=40)"
   ]
  },
  {
   "cell_type": "code",
   "execution_count": null,
   "metadata": {
    "scrolled": false
   },
   "outputs": [],
   "source": [
    "hivanalysis.performance_figures.plot_scoredist_and_pr_at_k(83735)"
   ]
  },
  {
   "cell_type": "code",
   "execution_count": null,
   "metadata": {},
   "outputs": [],
   "source": [
    "df_train = hiv.get_matrix('73e6f09c403e0eea413e6b9049e7c749')\n",
    "df_train['as_of_date']=pd.to_datetime(df_train['as_of_date'])"
   ]
  },
  {
   "cell_type": "code",
   "execution_count": null,
   "metadata": {},
   "outputs": [],
   "source": [
    "df_retention_max = df_train[['entity_id','as_of_date','retention_entity_id_1day_consecutive_retention_max','outcome']]"
   ]
  },
  {
   "cell_type": "code",
   "execution_count": null,
   "metadata": {},
   "outputs": [],
   "source": [
    "q='select entity_id, as_of_date, score, percent_rank() over (order by score desc) from test_results.predictions where model_id = 83735;'\n",
    "df_score = pd.read_sql(q,engine,parse_dates=['as_of_date'])"
   ]
  },
  {
   "cell_type": "code",
   "execution_count": null,
   "metadata": {},
   "outputs": [],
   "source": [
    "df_train_score = pd.merge(df_score,df_train,on=['entity_id','as_of_date'])\n",
    "df_train_score['ground'] = df_train_score.outcome.apply(lambda x:'Drop-Out' if x else 'Retained')"
   ]
  },
  {
   "cell_type": "code",
   "execution_count": null,
   "metadata": {},
   "outputs": [],
   "source": [
    "#grab all the retention features\n",
    "retention_feature_names = [col for col in df_train_score.columns if col.startswith('retention')]"
   ]
  },
  {
   "cell_type": "code",
   "execution_count": null,
   "metadata": {},
   "outputs": [],
   "source": [
    "retention_feature_names"
   ]
  },
  {
   "cell_type": "code",
   "execution_count": null,
   "metadata": {},
   "outputs": [],
   "source": [
    "df_retention_max = df_train_score[['entity_id','as_of_date','score','percent_rank','outcome','retention_entity_id_1day_consecutive_retention_max']].copy()"
   ]
  },
  {
   "cell_type": "code",
   "execution_count": null,
   "metadata": {},
   "outputs": [],
   "source": [
    "df_retention_max.head()"
   ]
  },
  {
   "cell_type": "code",
   "execution_count": null,
   "metadata": {},
   "outputs": [],
   "source": [
    "df_retention_max['ground'] = df_retention_max.outcome.apply(lambda x:'Drop-Out' if x else 'Retained')"
   ]
  },
  {
   "cell_type": "code",
   "execution_count": null,
   "metadata": {},
   "outputs": [],
   "source": [
    "def bin_retention_days(days_retention):\n",
    "    if days_retention == 0:\n",
    "        return 0\n",
    "    if days_retention == 1:\n",
    "        return 1\n",
    "    if days_retention > 1 and days_retention < 365:\n",
    "        return 365\n",
    "    if days_retention > 365 and days_retention < 730:\n",
    "        return 730\n",
    "    if days_retention > 730 and days_retention < 1095:\n",
    "        return 1095\n",
    "    if days_retention > 1095:\n",
    "        return 1460"
   ]
  },
  {
   "cell_type": "code",
   "execution_count": null,
   "metadata": {},
   "outputs": [],
   "source": [
    "df_retention_max['bin_days']=df_retention_max['retention_entity_id_1day_consecutive_retention_max'].apply(bin_retention_days)"
   ]
  },
  {
   "cell_type": "code",
   "execution_count": null,
   "metadata": {},
   "outputs": [],
   "source": [
    "fig, ax = plt.subplots(1,figsize=(48, 24))\n",
    "sns.set_context(\"poster\", font_scale=2, rc={\"lines.linewidth\": 1.25,\"lines.markersize\":18})\n",
    "df_retention_max['bin_days'].value_counts(normalize=True).plot(kind='bar')"
   ]
  },
  {
   "cell_type": "code",
   "execution_count": null,
   "metadata": {},
   "outputs": [],
   "source": [
    "fig, ax = plt.subplots(1,figsize=(48, 24))\n",
    "sns.set_context(\"poster\", font_scale=2, rc={\"lines.linewidth\": 1.25,\"lines.markersize\":18})\n",
    "df_retention_max.groupby('outcome').retention_entity_id_1day_consecutive_retention_max.hist(alpha=0.4)"
   ]
  },
  {
   "cell_type": "markdown",
   "metadata": {},
   "source": [
    "# Consecutive Days Retained"
   ]
  },
  {
   "cell_type": "code",
   "execution_count": null,
   "metadata": {},
   "outputs": [],
   "source": [
    "fig, ax = plt.subplots(1,2,figsize=(48, 24))\n",
    "sns.set_context(\"poster\", font_scale=2, rc={\"lines.linewidth\": 1.25,\"lines.markersize\":18})\n",
    "df_retention_max[df_retention_max.outcome==1].retention_entity_id_1day_consecutive_retention_max.hist(color='red',ax=ax[0])\n",
    "df_retention_max[df_retention_max.outcome==0].retention_entity_id_1day_consecutive_retention_max.hist(color='blue',ax=ax[1])"
   ]
  },
  {
   "cell_type": "markdown",
   "metadata": {},
   "source": [
    "Both retained and unretained have populations that have been retained for several years. It might be possible that these people that are unretained are just seeking care elsewhere or they are truly dropped out of care and this means that a history of retention doesn't necessarily mean you will be retained. "
   ]
  },
  {
   "cell_type": "code",
   "execution_count": null,
   "metadata": {},
   "outputs": [],
   "source": [
    "mask = (df_retention_max.outcome == 1) & (df_retention_max.retention_entity_id_1day_consecutive_retention_max > 730)\n"
   ]
  },
  {
   "cell_type": "code",
   "execution_count": null,
   "metadata": {},
   "outputs": [],
   "source": [
    "df_errors_highly_retained_dropouts = df_retention_max[mask].copy()"
   ]
  },
  {
   "cell_type": "code",
   "execution_count": null,
   "metadata": {},
   "outputs": [],
   "source": [
    "df_errors_highly_retained_dropouts['years_retained']=df_errors_highly_retained_dropouts.retention_entity_id_1day_consecutive_retention_max.apply(lambda x: x/365.)"
   ]
  },
  {
   "cell_type": "code",
   "execution_count": null,
   "metadata": {},
   "outputs": [],
   "source": [
    "df_errors_highly_retained_dropouts"
   ]
  },
  {
   "cell_type": "markdown",
   "metadata": {},
   "source": [
    "17 people that are not retained that are False Positives"
   ]
  },
  {
   "cell_type": "code",
   "execution_count": null,
   "metadata": {},
   "outputs": [],
   "source": [
    "sel_cols = ['entity_id','as_of_date','percent_rank','years_retained','ground']\n",
    "df_errors_highly_retained_dropouts[sel_cols].to_csv('highly_retained_dropouts.csv',index=False)"
   ]
  },
  {
   "cell_type": "code",
   "execution_count": null,
   "metadata": {},
   "outputs": [],
   "source": [
    "df_retention_max.outcome.value_counts()"
   ]
  },
  {
   "cell_type": "code",
   "execution_count": null,
   "metadata": {},
   "outputs": [],
   "source": [
    "df_train_score[df_train_score.percent_rank < 0.10].outcome.value_counts()"
   ]
  },
  {
   "cell_type": "code",
   "execution_count": null,
   "metadata": {},
   "outputs": [],
   "source": [
    "mask = (df_train_score.percent_rank > 0.10) & (df_train_score.retention_entity_id_1day_consecutive_retention_max < 730) & (df_train_score.outcome==1) \n",
    "sel_features = ['entity_id',\n",
    "                'as_of_date',\n",
    "                'score',\n",
    "                'percent_rank',\n",
    "                'outcome',\n",
    "                'retention_entity_id_1day_consecutive_retention_max',\n",
    "                'idprevappts_entity_id_6months_days_bn_appts_avg']\n",
    "df_missing60 = df_train_score[mask][sel_features].sort_values(by='score').copy()"
   ]
  },
  {
   "cell_type": "code",
   "execution_count": null,
   "metadata": {},
   "outputs": [],
   "source": [
    "df_missing60.head()"
   ]
  },
  {
   "cell_type": "code",
   "execution_count": null,
   "metadata": {},
   "outputs": [],
   "source": [
    "x1=df_missing60.retention_entity_id_1day_consecutive_retention_max\n",
    "x2=df_missing60.idprevappts_entity_id_6months_days_bn_appts_avg"
   ]
  },
  {
   "cell_type": "code",
   "execution_count": null,
   "metadata": {},
   "outputs": [],
   "source": [
    "fig, ax = plt.subplots(1,figsize=(48, 24))\n",
    "sns.set_context(\"poster\", font_scale=2, rc={\"lines.linewidth\": 1.25,\"lines.markersize\":18})\n",
    "plt.plot(x1,x2,linestyle='',marker='o',markersize=8)\n",
    "plt.ylabel('6 months days between appointments')\n",
    "plt.xlabel('consecutive_days_retention')"
   ]
  },
  {
   "cell_type": "code",
   "execution_count": null,
   "metadata": {},
   "outputs": [],
   "source": [
    "df_missing60.plot(kind='scatter',\n",
    "                  x='retention_entity_id_1day_consecutive_retention_max',\n",
    "                  y='idprevappts_entity_id_6months_days_bn_appts_avg',\n",
    "                  s=100,\n",
    "                  figsize=(48,24))"
   ]
  },
  {
   "cell_type": "code",
   "execution_count": null,
   "metadata": {},
   "outputs": [],
   "source": [
    "from sklearn.cluster import DBSCAN"
   ]
  },
  {
   "cell_type": "code",
   "execution_count": null,
   "metadata": {},
   "outputs": [],
   "source": [
    "dbscan_cluster = DBSCAN(eps=75,min_samples=5)"
   ]
  },
  {
   "cell_type": "code",
   "execution_count": null,
   "metadata": {},
   "outputs": [],
   "source": [
    "dbscan_cluster"
   ]
  },
  {
   "cell_type": "code",
   "execution_count": null,
   "metadata": {},
   "outputs": [],
   "source": [
    "cols_cluster = ['retention_entity_id_1day_consecutive_retention_max',\n",
    "                'idprevappts_entity_id_6months_days_bn_appts_avg']\n",
    "clusters = dbscan_cluster.fit(df_missing60[cols_cluster])"
   ]
  },
  {
   "cell_type": "code",
   "execution_count": null,
   "metadata": {},
   "outputs": [],
   "source": [
    "df_missing60['cluster'] = pd.Series(clusters.labels_+2, index=df_missing60.index)"
   ]
  },
  {
   "cell_type": "code",
   "execution_count": null,
   "metadata": {},
   "outputs": [],
   "source": [
    "len(df_missing60['cluster'].unique())"
   ]
  },
  {
   "cell_type": "code",
   "execution_count": null,
   "metadata": {},
   "outputs": [],
   "source": [
    "colormap = {1:'red',2:'blue',3:'green',4:'black',5:'purple',6:'orange',7:'brown',8:'grey'}"
   ]
  },
  {
   "cell_type": "code",
   "execution_count": null,
   "metadata": {},
   "outputs": [],
   "source": [
    "colormap[1]"
   ]
  },
  {
   "cell_type": "code",
   "execution_count": null,
   "metadata": {},
   "outputs": [],
   "source": [
    "df_missing60['cluster_color']=df_missing60['cluster'].apply(lambda x: colormap[x])"
   ]
  },
  {
   "cell_type": "code",
   "execution_count": null,
   "metadata": {},
   "outputs": [],
   "source": [
    "df_missing60.cluster.unique()"
   ]
  },
  {
   "cell_type": "code",
   "execution_count": null,
   "metadata": {},
   "outputs": [],
   "source": [
    "df_missing60[df_missing60.cluster == 1]"
   ]
  },
  {
   "cell_type": "code",
   "execution_count": null,
   "metadata": {},
   "outputs": [],
   "source": [
    "df_missing60.plot(kind='scatter',\n",
    "                  x='retention_entity_id_1day_consecutive_retention_max',\n",
    "                  y='idprevappts_entity_id_6months_days_bn_appts_avg',\n",
    "                  s=300,\n",
    "                  figsize=(48,24),\n",
    "                  c=df_missing60['cluster_color'])"
   ]
  },
  {
   "cell_type": "code",
   "execution_count": null,
   "metadata": {},
   "outputs": [],
   "source": [
    "mask = (df_train_score.percent_rank > 0.10) & (df_train_score.retention_entity_id_1day_consecutive_retention_max < 730) \n",
    "sel_features = ['entity_id',\n",
    "                'as_of_date',\n",
    "                'score',\n",
    "                'percent_rank',\n",
    "                'outcome',\n",
    "                'retention_entity_id_1day_consecutive_retention_max',\n",
    "                'idprevappts_entity_id_6months_days_bn_appts_avg']\n",
    "df_missing_everybody = df_train_score[mask][sel_features].sort_values(by='score').copy()"
   ]
  },
  {
   "cell_type": "code",
   "execution_count": null,
   "metadata": {},
   "outputs": [],
   "source": [
    "fig, ax = plt.subplots(1,figsize=(48, 24))\n",
    "sns.set_context(\"poster\", font_scale=2, rc={\"lines.linewidth\": 1.25,\"lines.markersize\":18})\n",
    "df_missing_everybody[df_missing_everybody.outcome==0].plot(kind='scatter',\n",
    "                  x='retention_entity_id_1day_consecutive_retention_max',\n",
    "                  y='idprevappts_entity_id_6months_days_bn_appts_avg',\n",
    "                  s=300,\n",
    "                  figsize=(48,24),\n",
    "                  marker='x',\n",
    "                  ax=ax)\n",
    "df_missing_everybody[df_missing_everybody.outcome==1].plot(kind='scatter',\n",
    "                  x='retention_entity_id_1day_consecutive_retention_max',\n",
    "                  y='idprevappts_entity_id_6months_days_bn_appts_avg',\n",
    "                  s=300,\n",
    "                  figsize=(48,24),\n",
    "                  marker='o',\n",
    "                  ax=ax)\n"
   ]
  },
  {
   "cell_type": "code",
   "execution_count": null,
   "metadata": {},
   "outputs": [],
   "source": [
    "cols_cluster = ['retention_entity_id_1day_consecutive_retention_max',\n",
    "                'idprevappts_entity_id_6months_days_bn_appts_avg']\n",
    "dbscan_cluster = DBSCAN(eps=25,min_samples=5)\n",
    "clusters = dbscan_cluster.fit(df_missing_everybody[cols_cluster])\n",
    "df_missing_everybody['cluster'] = pd.Series(clusters.labels_+2, index=df_missing_everybody.index)\n",
    "df_missing_everybody['cluster_color'] = df_missing_everybody['cluster'].apply(lambda x: colormap[x])"
   ]
  },
  {
   "cell_type": "code",
   "execution_count": null,
   "metadata": {},
   "outputs": [],
   "source": [
    "df_missing_everybody['cluster_color'].unique()"
   ]
  },
  {
   "cell_type": "code",
   "execution_count": null,
   "metadata": {},
   "outputs": [],
   "source": [
    "fig, ax = plt.subplots(1,figsize=(48, 24))\n",
    "sns.set_context(\"poster\", font_scale=2, rc={\"lines.linewidth\": 1.25,\"lines.markersize\":18})\n",
    "df_missing_everybody[df_missing_everybody.outcome==0].plot(kind='scatter',\n",
    "                  x='retention_entity_id_1day_consecutive_retention_max',\n",
    "                  y='idprevappts_entity_id_6months_days_bn_appts_avg',\n",
    "                  s=300,\n",
    "                  figsize=(48,24),\n",
    "                  marker='x',\n",
    "                  ax=ax,\n",
    "                  c=df_missing_everybody[df_missing_everybody.outcome==0]['cluster_color'])\n",
    "df_missing_everybody[df_missing_everybody.outcome==1].plot(kind='scatter',\n",
    "                  x='retention_entity_id_1day_consecutive_retention_max',\n",
    "                  y='idprevappts_entity_id_6months_days_bn_appts_avg',\n",
    "                  s=300,\n",
    "                  figsize=(48,24),\n",
    "                  marker='o',\n",
    "                  ax=ax,\n",
    "                  c=df_missing_everybody[df_missing_everybody.outcome==1]['cluster_color'])"
   ]
  },
  {
   "cell_type": "code",
   "execution_count": null,
   "metadata": {},
   "outputs": [],
   "source": [
    "fig, ax = plt.subplots(1,figsize=(48, 24))\n",
    "sns.set_context(\"poster\", font_scale=2, rc={\"lines.linewidth\": 1.25,\"lines.markersize\":18})\n",
    "df_missing_everybody[df_missing_everybody.outcome==0].plot(kind='scatter',\n",
    "                  x='retention_entity_id_1day_consecutive_retention_max',\n",
    "                  y='idprevappts_entity_id_6months_days_bn_appts_avg',\n",
    "                  s=300,\n",
    "                  figsize=(48,24),\n",
    "                  marker='x',\n",
    "                  ax=ax,\n",
    "                  c='DarkBlue')\n",
    "df_missing60.plot(kind='scatter',\n",
    "                  x='retention_entity_id_1day_consecutive_retention_max',\n",
    "                  y='idprevappts_entity_id_6months_days_bn_appts_avg',\n",
    "                  s=300,\n",
    "                  figsize=(48,24),\n",
    "                  ax=ax,\n",
    "                  c=df_missing60['cluster_color'])"
   ]
  },
  {
   "cell_type": "code",
   "execution_count": null,
   "metadata": {},
   "outputs": [],
   "source": [
    "df_missing_everybody[df_missing_everybody.cluster==2].head()"
   ]
  },
  {
   "cell_type": "code",
   "execution_count": null,
   "metadata": {},
   "outputs": [],
   "source": [
    "#make a dt over the features\n",
    "from sklearn import tree\n",
    "clf = tree.DecisionTreeClassifier(max_depth=2)"
   ]
  },
  {
   "cell_type": "code",
   "execution_count": null,
   "metadata": {},
   "outputs": [],
   "source": [
    "sel_features=['retention_entity_id_1day_consecutive_retention_max']\n",
    "X=df_retention_max[sel_features].values\n",
    "y=df_retention_max.outcome.values\n",
    "mdl = clf.fit(X,y)"
   ]
  },
  {
   "cell_type": "code",
   "execution_count": null,
   "metadata": {},
   "outputs": [],
   "source": [
    "from IPython.display import Image\n",
    "def visualize_tree(classifier,feature_cols,proportion=True):\n",
    "    from sklearn.tree import export_graphviz\n",
    "    export_graphviz(classifier,\n",
    "                    out_file='tree.dot',\n",
    "                    feature_names=feature_cols,\n",
    "                    rounded=True,\n",
    "                    proportion=proportion,\n",
    "                    filled=True,\n",
    "                    precision=2)\n",
    "    import pydotplus\n",
    "    graph = pydotplus.graph_from_dot_file('tree.dot')\n",
    "    graph.write_png('tree.png')\n",
    "    return 'tree.png'\n",
    "    "
   ]
  },
  {
   "cell_type": "code",
   "execution_count": null,
   "metadata": {},
   "outputs": [],
   "source": [
    "Image(visualize_tree(mdl,sel_features))"
   ]
  },
  {
   "cell_type": "code",
   "execution_count": null,
   "metadata": {},
   "outputs": [],
   "source": [
    "sel_features=retention_feature_names.copy()\n",
    "X=df_train_score[sel_features].values\n",
    "y=df_train_score.outcome.values\n",
    "mdl = clf.fit(X,y)\n",
    "Image(visualize_tree(mdl,sel_features))"
   ]
  },
  {
   "cell_type": "code",
   "execution_count": null,
   "metadata": {},
   "outputs": [],
   "source": [
    "mask = df_retention_max.percent_rank < 0.10\n",
    "df_retention_max[mask].groupby('ground')['retention_entity_id_1day_consecutive_retention_max'].value_counts()"
   ]
  },
  {
   "cell_type": "code",
   "execution_count": null,
   "metadata": {},
   "outputs": [],
   "source": [
    "mask = df_retention_max.retention_entity_id_1day_consecutive_retention_max < 2 \n",
    "df=df_retention_max[mask].groupby('ground')['retention_entity_id_1day_consecutive_retention_max'].value_counts(normalize=True)"
   ]
  },
  {
   "cell_type": "code",
   "execution_count": null,
   "metadata": {},
   "outputs": [],
   "source": [
    "fig, ax = plt.subplots(1,2,figsize=(24, 8))\n",
    "sns.set_context(\"poster\", font_scale=1, rc={\"lines.linewidth\": 1.25,\"lines.markersize\":18})\n",
    "df.unstack(level=0).plot(kind='bar',color=['red','green'],ax=ax[0])\n",
    "sns.boxplot(x='ground',y='retention_entity_id_1day_consecutive_retention_max',data=df_train_score,ax=ax[1])"
   ]
  },
  {
   "cell_type": "markdown",
   "metadata": {},
   "source": [
    "Although, all the drop-outs in the top 10% are 0 and 1 for consecutive days of retention, there is the same proporiton of people retained that are both 0 and 1. "
   ]
  },
  {
   "cell_type": "code",
   "execution_count": null,
   "metadata": {},
   "outputs": [],
   "source": [
    "clf = tree.DecisionTreeClassifier(max_depth=3)\n",
    "sel_features = ['retention_entity_id_1day_consecutive_retention_max',\n",
    "               'idprevappts_entity_id_6months_days_bn_appts_avg',\n",
    "               'retention_entity_id_1day_n_days_last_appt_max']\n",
    "X=df_train_score[sel_features].values\n",
    "y=df_train_score.outcome.values\n",
    "mdl = clf.fit(X,y)\n",
    "Image(visualize_tree(mdl,sel_features))"
   ]
  },
  {
   "cell_type": "code",
   "execution_count": null,
   "metadata": {},
   "outputs": [],
   "source": [
    "fig, ax = plt.subplots(1,figsize=(12, 12))\n",
    "sns.set_context(\"poster\", font_scale=1, rc={\"lines.linewidth\": 1.25,\"lines.markersize\":18})\n",
    "sns.boxplot(x='ground',y='retention_entity_id_1day_consecutive_retention_max',data=df_train_score)"
   ]
  },
  {
   "cell_type": "markdown",
   "metadata": {},
   "source": [
    "# N Changes in Retention "
   ]
  },
  {
   "cell_type": "code",
   "execution_count": null,
   "metadata": {},
   "outputs": [],
   "source": [
    "fig, ax = plt.subplots(1,2,figsize=(48, 24))\n",
    "sns.set_context(\"poster\", font_scale=2, rc={\"lines.linewidth\": 1.25,\"lines.markersize\":18})\n",
    "df_train_score[df_train_score.outcome==1].retention_entity_id_1day_n_changes_retention_max.hist(color='red',ax=ax[0])\n",
    "df_train_score[df_train_score.outcome==0].retention_entity_id_1day_n_changes_retention_max.hist(color='blue',ax=ax[1])\n",
    "ax[0].set_xlabel('drop-out n_drop_retention')\n",
    "ax[1].set_xlabel('retained n_drop_retention')\n"
   ]
  },
  {
   "cell_type": "code",
   "execution_count": null,
   "metadata": {},
   "outputs": [],
   "source": [
    "from scipy.stats import ttest_ind"
   ]
  },
  {
   "cell_type": "code",
   "execution_count": null,
   "metadata": {},
   "outputs": [],
   "source": [
    "ttest_ind(df_train_score[df_train_score.outcome==1].retention_entity_id_1day_n_changes_retention_max.values,\n",
    "         df_train_score[df_train_score.outcome==0].retention_entity_id_1day_n_changes_retention_max.values)"
   ]
  },
  {
   "cell_type": "code",
   "execution_count": null,
   "metadata": {},
   "outputs": [],
   "source": [
    "clf = tree.DecisionTreeClassifier(max_depth=1)\n",
    "sel_features=['retention_entity_id_1day_n_changes_retention_max']\n",
    "X=df_train_score[sel_features].values\n",
    "y=df_train_score.outcome.values\n",
    "mdl = clf.fit(X,y)\n",
    "Image(visualize_tree(mdl,sel_features))"
   ]
  },
  {
   "cell_type": "code",
   "execution_count": null,
   "metadata": {},
   "outputs": [],
   "source": [
    "clf = tree.DecisionTreeClassifier(max_depth=2)\n",
    "sel_features=['retention_entity_id_1day_n_changes_retention_max']\n",
    "X=df_train_score[sel_features].values\n",
    "y=df_train_score.outcome.values\n",
    "mdl = clf.fit(X,y)\n",
    "Image(visualize_tree(mdl,sel_features,proportion=False))"
   ]
  },
  {
   "cell_type": "code",
   "execution_count": null,
   "metadata": {},
   "outputs": [],
   "source": [
    "clf = tree.DecisionTreeClassifier(max_depth=3)\n",
    "sel_features=['retention_entity_id_1day_n_changes_retention_max']\n",
    "X=df_train_score[sel_features].values\n",
    "y=df_train_score.outcome.values\n",
    "mdl = clf.fit(X,y)\n",
    "Image(visualize_tree(mdl,sel_features,proportion=True))"
   ]
  },
  {
   "cell_type": "code",
   "execution_count": null,
   "metadata": {},
   "outputs": [],
   "source": [
    "fig, ax = plt.subplots(1,figsize=(12, 12))\n",
    "sns.set_context(\"poster\", font_scale=2, rc={\"lines.linewidth\": 1.25,\"lines.markersize\":18})\n",
    "df_train_score.groupby('outcome').retention_entity_id_1day_n_changes_retention_max.hist(alpha=0.3)"
   ]
  },
  {
   "cell_type": "code",
   "execution_count": null,
   "metadata": {},
   "outputs": [],
   "source": [
    "df_train_score['key'] = df_train_score['entity_id'].apply(lambda x: str(x)) + '_' + df_train_score['as_of_date'].apply(lambda x: str(x).split()[0])"
   ]
  },
  {
   "cell_type": "code",
   "execution_count": null,
   "metadata": {},
   "outputs": [],
   "source": [
    "df_train_score['ground'] = df_train_score.outcome.apply(lambda x:'Drop-Out' if x else 'Retained')"
   ]
  },
  {
   "cell_type": "code",
   "execution_count": null,
   "metadata": {},
   "outputs": [],
   "source": [
    "fig, ax = plt.subplots(1,figsize=(12, 12))\n",
    "sns.set_context(\"poster\", font_scale=.5, rc={\"lines.linewidth\": 1.25,\"lines.markersize\":18})\n",
    "pd.crosstab(df_train_score.ground,df_train_score.retention_entity_id_1day_retained_max).plot(kind='barh',ax=ax)"
   ]
  },
  {
   "cell_type": "code",
   "execution_count": null,
   "metadata": {},
   "outputs": [],
   "source": [
    "df_train_score.groupby('ground')['retention_entity_id_1day_n_days_last_appt_max'].describe()"
   ]
  },
  {
   "cell_type": "code",
   "execution_count": null,
   "metadata": {},
   "outputs": [],
   "source": [
    "df_top5 = df_compare_scores[sel_features+['triage_score','outcome']].sort_values(by='triage_score',ascending=False)[:top5]\n",
    "\n",
    "fig, ax = plt.subplots(1,figsize=(48, 24))\n",
    "sns.set_context(\"poster\", font_scale=2, rc={\"lines.linewidth\": 1.25,\"lines.markersize\":18})\n",
    "df_top5[df_top5.outcome==1].plot(kind='scatter',\n",
    "                  x='retention_entity_id_1day_consecutive_retention_max',\n",
    "                  y='idprevappts_entity_id_6months_days_bn_appts_avg',\n",
    "                  s=300,\n",
    "                  figsize=(48,24),\n",
    "                  marker='o',\n",
    "                  ax=ax)\n",
    "df_top5[df_top5.outcome==0].plot(kind='scatter',\n",
    "                  x='retention_entity_id_1day_consecutive_retention_max',\n",
    "                  y='idprevappts_entity_id_6months_days_bn_appts_avg',\n",
    "                  s=300,\n",
    "                  figsize=(48,24),\n",
    "                  marker='x',\n",
    "                  ax=ax)\n",
    "plt.ylim(0,4000)from scipy.stats import ttest_ind"
   ]
  },
  {
   "cell_type": "code",
   "execution_count": null,
   "metadata": {},
   "outputs": [],
   "source": [
    "ttest_ind(df_train_score[df_train_score.outcome==1]['retention_entity_id_1day_n_days_last_appt_max'].values,\n",
    "         df_train_score[df_train_score.outcome==0]['retention_entity_id_1day_n_days_last_appt_max'].values)"
   ]
  },
  {
   "cell_type": "code",
   "execution_count": null,
   "metadata": {},
   "outputs": [],
   "source": [
    "fig, ax = plt.subplots(1,figsize=(12, 12))\n",
    "sns.set_context(\"poster\", font_scale=2, rc={\"lines.linewidth\": 1.25,\"lines.markersize\":18})\n",
    "mask = df_train_score['retention_entity_id_1day_n_days_last_appt_max'] < 730\n",
    "df_train_score[mask].groupby('outcome').retention_entity_id_1day_n_days_last_appt_max.hist(alpha=0.4)\n",
    "plt.xlim(0,730)"
   ]
  },
  {
   "cell_type": "code",
   "execution_count": null,
   "metadata": {},
   "outputs": [],
   "source": [
    "fig, ax = plt.subplots(1,figsize=(12, 12))\n",
    "sns.set_context(\"poster\", font_scale=1, rc={\"lines.linewidth\": 1.25,\"lines.markersize\":18})\n",
    "sns.boxplot(x='ground',y='retention_entity_id_1day_n_days_last_appt_max',data=df_train_score,sym='')"
   ]
  },
  {
   "cell_type": "markdown",
   "metadata": {},
   "source": [
    "# ID Previous Appointments"
   ]
  },
  {
   "cell_type": "markdown",
   "metadata": {},
   "source": [
    "## Questions\n",
    "- What is the difference between days_between appointments for retained and drop-outs over time.\n",
    "- What is the difference between completed appointments for retained and drop-outs over time. "
   ]
  },
  {
   "cell_type": "code",
   "execution_count": null,
   "metadata": {},
   "outputs": [],
   "source": [
    "ls_idprevappts_features = [col for col in df_train_score.columns if col.startswith('idprevappts')]"
   ]
  },
  {
   "cell_type": "code",
   "execution_count": null,
   "metadata": {},
   "outputs": [],
   "source": [
    "ls_idprevappts_imp = [col for col in ls_idprevappts_features if col.endswith('imp')]"
   ]
  },
  {
   "cell_type": "code",
   "execution_count": null,
   "metadata": {},
   "outputs": [],
   "source": [
    "len(ls_idprevappts_imp)"
   ]
  },
  {
   "cell_type": "code",
   "execution_count": null,
   "metadata": {
    "scrolled": false
   },
   "outputs": [],
   "source": [
    "fig, ax = plt.subplots(8,3,figsize=(54, 54))\n",
    "sns.set_context(\"poster\", font_scale=1, rc={\"lines.linewidth\": 1.25,\"lines.markersize\":18})\n",
    "for i,col in enumerate(ls_idprevappts_imp):\n",
    "    rowi=int(floor(i/3))\n",
    "    coli=int(i%3)\n",
    "    pd.crosstab(df_train_score['ground'],df_train_score[col]).plot(kind='barh',legend=True,ax=ax[rowi,coli],label=col)\n",
    "    plt.title(col)"
   ]
  },
  {
   "cell_type": "code",
   "execution_count": null,
   "metadata": {},
   "outputs": [],
   "source": [
    "df_top10=df_train_score[df_train_score.percent_rank < 0.10].copy()"
   ]
  },
  {
   "cell_type": "code",
   "execution_count": null,
   "metadata": {},
   "outputs": [],
   "source": [
    "fig, ax = plt.subplots(1,2,figsize=(14, 5))\n",
    "sns.set_context(\"poster\", font_scale=.5, rc={\"lines.linewidth\": 1.25,\"lines.markersize\":18})\n",
    "sns.boxplot(x='ground',y='idprevappts_entity_id_6months_days_bn_appts_avg',data=df_top10,sym='',ax=ax[0])\n",
    "sns.boxplot(x='ground',y='idprevappts_entity_id_6months_days_bn_appts_avg',data=df_train_score,ax=ax[1])"
   ]
  },
  {
   "cell_type": "code",
   "execution_count": null,
   "metadata": {},
   "outputs": [],
   "source": [
    "df_top10['idprevappts_entity_id_6months_days_bn_appts_avg'].describe()"
   ]
  },
  {
   "cell_type": "code",
   "execution_count": null,
   "metadata": {},
   "outputs": [],
   "source": [
    "df_top10['idprevappts_entity_id_6months_days_bn_appts_avg_imp'].describe()"
   ]
  },
  {
   "cell_type": "code",
   "execution_count": null,
   "metadata": {},
   "outputs": [],
   "source": [
    "sns.set_context(\"poster\", font_scale=.4, rc={\"lines.linewidth\": 1.25,\"lines.markersize\":18})\n",
    "pd.crosstab(df_top10['ground'],df_top10['idprevappts_entity_id_6months_days_bn_appts_avg_imp']).plot(kind='bar')"
   ]
  },
  {
   "cell_type": "code",
   "execution_count": null,
   "metadata": {},
   "outputs": [],
   "source": [
    "#what about the distribution for people that do not have the feature imputed \n",
    "fig, ax = plt.subplots(1,2,figsize=(16, 8))\n",
    "sns.set_context(\"poster\", font_scale=.4, rc={\"lines.linewidth\": 1.25,\"lines.markersize\":18})\n",
    "mask = df_train_score['idprevappts_entity_id_6months_days_bn_appts_avg_imp'] < 1\n",
    "sns.boxplot(x='ground',y='idprevappts_entity_id_6months_days_bn_appts_avg',data=df_train_score[mask],ax=ax[0])\n",
    "sns.boxplot(x='ground',y='idprevappts_entity_id_6months_days_bn_appts_avg',data=df_train_score[mask],sym='',ax=ax[1])"
   ]
  },
  {
   "cell_type": "code",
   "execution_count": null,
   "metadata": {},
   "outputs": [],
   "source": [
    "mask = (df_train_score['idprevappts_entity_id_6months_days_bn_appts_min'] == df_train_score['idprevappts_entity_id_6months_days_bn_appts_max'])\n",
    "mask.value_counts(normalize=True)"
   ]
  },
  {
   "cell_type": "code",
   "execution_count": null,
   "metadata": {},
   "outputs": [],
   "source": [
    "mask = (df_train_score['idprevappts_entity_id_1year_days_bn_appts_min'] == df_train_score['idprevappts_entity_id_1year_days_bn_appts_max'])\n",
    "mask.value_counts(normalize=True)"
   ]
  },
  {
   "cell_type": "code",
   "execution_count": null,
   "metadata": {},
   "outputs": [],
   "source": [
    "mask = (df_train_score['idprevappts_entity_id_3years_days_bn_appts_min'] == df_train_score['idprevappts_entity_id_3years_days_bn_appts_max'])\n",
    "mask.value_counts(normalize=True)"
   ]
  },
  {
   "cell_type": "code",
   "execution_count": null,
   "metadata": {},
   "outputs": [],
   "source": [
    "mask = (df_train_score['idprevappts_entity_id_all_days_bn_appts_min'] == df_train_score['idprevappts_entity_id_all_days_bn_appts_max'])\n",
    "mask.value_counts(normalize=True)"
   ]
  },
  {
   "cell_type": "markdown",
   "metadata": {},
   "source": [
    "Days between feature for six months have 40% of the values where there is only 1 or 0 appointments. Largely driven by imputation. This is why min, max and avg have similar predictive value. "
   ]
  },
  {
   "cell_type": "code",
   "execution_count": null,
   "metadata": {},
   "outputs": [],
   "source": [
    "#what is the distribution of days between appointments over all time. \n",
    "order = ['Retained','Drop-Out']\n",
    "fig, ax = plt.subplots(1,4,figsize=(36, 12))\n",
    "sns.set_context(\"poster\", font_scale=.75, rc={\"lines.linewidth\": 1.25,\"lines.markersize\":18})\n",
    "mask = df_train_score['idprevappts_entity_id_all_days_bn_appts_avg_imp'] < 1\n",
    "sns.boxplot(x='ground',y='idprevappts_entity_id_all_days_bn_appts_avg',data=df_train_score[mask],ax=ax[0],sym='',order=order)\n",
    "mask = df_train_score['idprevappts_entity_id_3years_days_bn_appts_avg_imp'] < 1\n",
    "sns.boxplot(x='ground',y='idprevappts_entity_id_3years_days_bn_appts_avg',data=df_train_score[mask],ax=ax[1],sym='',order=order)\n",
    "mask = df_train_score['idprevappts_entity_id_1year_days_bn_appts_avg_imp'] < 1\n",
    "sns.boxplot(x='ground',y='idprevappts_entity_id_1year_days_bn_appts_avg',data=df_train_score[mask],ax=ax[2],sym='',order=order)\n",
    "mask = df_train_score['idprevappts_entity_id_6months_days_bn_appts_avg_imp'] < 1\n",
    "sns.boxplot(x='ground',y='idprevappts_entity_id_6months_days_bn_appts_avg',data=df_train_score[mask],ax=ax[3],sym='',order=order)\n"
   ]
  },
  {
   "cell_type": "code",
   "execution_count": null,
   "metadata": {},
   "outputs": [],
   "source": [
    "mask = df_train_score['idprevappts_entity_id_all_days_bn_appts_avg_imp'] == 0 \n",
    "df_train_score[mask].groupby('ground')['idprevappts_entity_id_all_days_bn_appts_avg'].describe()"
   ]
  },
  {
   "cell_type": "code",
   "execution_count": null,
   "metadata": {},
   "outputs": [],
   "source": [
    "mask1 = (df_train_score['idprevappts_entity_id_all_days_bn_appts_avg_imp'] == 0) & (df_train_score['outcome'] ==1.)\n",
    "mask0 = (df_train_score['idprevappts_entity_id_all_days_bn_appts_avg_imp'] == 0) & (df_train_score['outcome'] ==0)"
   ]
  },
  {
   "cell_type": "code",
   "execution_count": null,
   "metadata": {},
   "outputs": [],
   "source": [
    "ttest_ind(df_train_score[mask1]['idprevappts_entity_id_all_days_bn_appts_avg'].values,\n",
    "         df_train_score[mask0]['idprevappts_entity_id_all_days_bn_appts_avg'].values)"
   ]
  },
  {
   "cell_type": "markdown",
   "metadata": {},
   "source": [
    "# Viral Load Features\n",
    "- Are Viral Load Features just proxies for imputation"
   ]
  },
  {
   "cell_type": "code",
   "execution_count": null,
   "metadata": {},
   "outputs": [],
   "source": [
    "ls_vl_features = [col for col in df_train_score.columns if col.startswith('vl')]"
   ]
  },
  {
   "cell_type": "code",
   "execution_count": null,
   "metadata": {},
   "outputs": [],
   "source": [
    "ls_vl_features_imp = [col for col in ls_vl_features if col.endswith('imp')]"
   ]
  },
  {
   "cell_type": "code",
   "execution_count": null,
   "metadata": {},
   "outputs": [],
   "source": [
    "fig, ax = plt.subplots(14,3,figsize=(54, 72))\n",
    "sns.set_context(\"poster\", font_scale=1, rc={\"lines.linewidth\": 1.25,\"lines.markersize\":18})\n",
    "for i,col in enumerate(ls_vl_features_imp):\n",
    "    rowi=int(floor(i/3))\n",
    "    coli=int(i%3)\n",
    "    pd.crosstab(df_train_score['ground'],df_train_score[col]).plot(kind='barh',legend=True,ax=ax[rowi,coli],label=col)\n",
    "    plt.title(col)"
   ]
  },
  {
   "cell_type": "code",
   "execution_count": null,
   "metadata": {},
   "outputs": [],
   "source": [
    "ls_vl_features"
   ]
  },
  {
   "cell_type": "code",
   "execution_count": null,
   "metadata": {},
   "outputs": [],
   "source": [
    "df_top10.groupby('ground')['vl_entity_id_3years_virally_supressed_sum'].describe()"
   ]
  },
  {
   "cell_type": "code",
   "execution_count": null,
   "metadata": {},
   "outputs": [],
   "source": [
    "df_train_score.groupby('ground')['vl_entity_id_3years_virally_supressed_sum'].describe()"
   ]
  },
  {
   "cell_type": "code",
   "execution_count": null,
   "metadata": {},
   "outputs": [],
   "source": [
    "df_top10['vl_entity_id_3years_virally_supressed_sum_imp']\n",
    "pd.crosstab(df_top10['ground'],df_top10['vl_entity_id_3years_virally_supressed_sum_imp'])"
   ]
  },
  {
   "cell_type": "code",
   "execution_count": null,
   "metadata": {},
   "outputs": [],
   "source": [
    "order = ['Retained','Drop-Out']\n",
    "fig, ax = plt.subplots(2,4,figsize=(42, 24))\n",
    "sns.set_context(\"poster\", font_scale=.75, rc={\"lines.linewidth\": 1.25,\"lines.markersize\":18})\n",
    "sns.boxplot(x='ground',y='vl_entity_id_all_virally_supressed_sum',data=df_top10,sym='',order=order,ax=ax[0,0])\n",
    "sns.boxplot(x='ground',y='vl_entity_id_3years_virally_supressed_sum',data=df_top10,sym='',order=order,ax=ax[0,1])\n",
    "sns.boxplot(x='ground',y='vl_entity_id_1years_virally_supressed_sum',data=df_top10,sym='',order=order,ax=ax[0,2])\n",
    "sns.boxplot(x='ground',y='vl_entity_id_6months_virally_supressed_sum',data=df_top10,sym='',order=order,ax=ax[0,3])\n",
    "sns.boxplot(x='ground',y='vl_entity_id_all_virally_supressed_sum',data=df_train_score,sym='',order=order,ax=ax[1,0])\n",
    "sns.boxplot(x='ground',y='vl_entity_id_3years_virally_supressed_sum',data=df_train_score,sym='',order=order,ax=ax[1,1])\n",
    "sns.boxplot(x='ground',y='vl_entity_id_1years_virally_supressed_sum',data=df_train_score,sym='',order=order,ax=ax[1,2])\n",
    "sns.boxplot(x='ground',y='vl_entity_id_6months_virally_supressed_sum',data=df_train_score,sym='',order=order,ax=ax[1,3])\n"
   ]
  },
  {
   "cell_type": "code",
   "execution_count": null,
   "metadata": {},
   "outputs": [],
   "source": [
    "fig, ax = plt.subplots(1,2,figsize=(16, 8))\n",
    "sns.set_context(\"poster\", font_scale=1, rc={\"lines.linewidth\": 1.25,\"lines.markersize\":18})\n",
    "sns.boxplot(x='ground',y='vl_entity_id_all_virally_supressed_sum',data=df_top10,sym='',order=order,ax=ax[0])\n",
    "sns.boxplot(x='ground',y='vl_entity_id_all_virally_supressed_sum',data=df_train_score,sym='',order=order,ax=ax[1])\n"
   ]
  },
  {
   "cell_type": "code",
   "execution_count": null,
   "metadata": {},
   "outputs": [],
   "source": [
    "fig, ax = plt.subplots(1,2,figsize=(16, 8))\n",
    "sns.set_context(\"poster\", font_scale=1, rc={\"lines.linewidth\": 1.25,\"lines.markersize\":18})\n",
    "sns.boxplot(x='ground',y='vl_entity_id_3years_virally_supressed_sum',data=df_top10,sym='',order=order,ax=ax[0])\n",
    "sns.boxplot(x='ground',y='vl_entity_id_3years_virally_supressed_sum',data=df_train_score,sym='',order=order,ax=ax[1])\n"
   ]
  },
  {
   "cell_type": "code",
   "execution_count": null,
   "metadata": {},
   "outputs": [],
   "source": [
    "fig, ax = plt.subplots(1,2,figsize=(16, 8))\n",
    "sns.set_context(\"poster\", font_scale=0.5, rc={\"lines.linewidth\": 1.25,\"lines.markersize\":18})\n",
    "sns.boxplot(x='ground',y='vl_entity_id_all_vl_gt_100k_sum',data=df_top10,sym='',order=order,ax=ax[0])\n",
    "sns.boxplot(x='ground',y='vl_entity_id_all_vl_gt_100k_sum',data=df_train_score,sym='',order=order,ax=ax[1])\n"
   ]
  },
  {
   "cell_type": "code",
   "execution_count": null,
   "metadata": {},
   "outputs": [],
   "source": [
    "df_top10[['retention_entity_id_1day_consecutive_retention_max','idprevappts_entity_id_6months_days_bn_appts_avg']]"
   ]
  },
  {
   "cell_type": "code",
   "execution_count": null,
   "metadata": {},
   "outputs": [],
   "source": [
    "df_top10['retention_entity_id_1day_consecutive_retention_max'] > 1"
   ]
  },
  {
   "cell_type": "code",
   "execution_count": null,
   "metadata": {},
   "outputs": [],
   "source": [
    "df_top10['idprevappts_entity_id_6months_days_bn_appts_avg'].value_counts()"
   ]
  },
  {
   "cell_type": "code",
   "execution_count": null,
   "metadata": {},
   "outputs": [],
   "source": [
    "df_top10[df_top10.outcome==0]['retention_entity_id_1day_n_days_last_appt_max']"
   ]
  },
  {
   "cell_type": "code",
   "execution_count": null,
   "metadata": {},
   "outputs": [],
   "source": [
    "df_train_score.outcome.value_counts()"
   ]
  },
  {
   "cell_type": "code",
   "execution_count": null,
   "metadata": {},
   "outputs": [],
   "source": [
    "133*0.33"
   ]
  },
  {
   "cell_type": "code",
   "execution_count": null,
   "metadata": {},
   "outputs": [],
   "source": [
    "def grab_model_train(model_hash, train_hash):\n",
    "    logging.info('model_hash: {}'.format(model_hash))\n",
    "    logging.info('train_hash: {}'.format(train_hash))\n",
    "    model = hiv.get_model(model_hash)\n",
    "    logging.debug(model)\n",
    "    df_train = hiv.get_matrix(train_hash)\n",
    "    df_train = df_train.set_index(['entity_id','as_of_date'])\n",
    "    df_train.drop('outcome',axis=1,inplace=True)\n",
    "    feature_cols = df_train.columns\n",
    "    return model, df_train"
   ]
  },
  {
   "cell_type": "code",
   "execution_count": null,
   "metadata": {},
   "outputs": [],
   "source": [
    "import logging"
   ]
  },
  {
   "cell_type": "code",
   "execution_count": null,
   "metadata": {},
   "outputs": [],
   "source": [
    "mdl,df_train = grab_model_train('006dedffc978bf7280e588b3a8c9bfda','ad3a3809810f2ded31640ffaca84adc3')"
   ]
  },
  {
   "cell_type": "code",
   "execution_count": null,
   "metadata": {
    "scrolled": true
   },
   "outputs": [],
   "source": [
    "sel_features = df_train.columns \n",
    "Image(visualize_tree(mdl,sel_features,proportion=True))"
   ]
  },
  {
   "cell_type": "code",
   "execution_count": null,
   "metadata": {},
   "outputs": [],
   "source": []
  }
 ],
 "metadata": {
  "kernelspec": {
   "display_name": "Python 3",
   "language": "python",
   "name": "python3"
  },
  "language_info": {
   "codemirror_mode": {
    "name": "ipython",
    "version": 3
   },
   "file_extension": ".py",
   "mimetype": "text/x-python",
   "name": "python",
   "nbconvert_exporter": "python",
   "pygments_lexer": "ipython3",
   "version": "3.6.6"
  }
 },
 "nbformat": 4,
 "nbformat_minor": 2
}
