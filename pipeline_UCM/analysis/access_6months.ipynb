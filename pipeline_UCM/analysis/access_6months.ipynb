{
 "cells": [
  {
   "cell_type": "code",
   "execution_count": null,
   "metadata": {},
   "outputs": [],
   "source": [
    "%load_ext autoreload\n",
    "%autoreload 2\n",
    "\n",
    "import pandas as pd\n",
    "import matplotlib.pyplot as plt\n",
    "import seaborn as sns\n",
    "\n",
    "from sqlalchemy import create_engine\n",
    "import os\n",
    "\n",
    "import utils\n",
    "\n",
    "from IPython.display import Image\n",
    "from IPython.core.interactiveshell import InteractiveShell\n",
    "InteractiveShell.ast_node_interactivity = \"all\"\n",
    "\n",
    "dburl = os.environ['DBURL']\n",
    "engine = create_engine(dburl)"
   ]
  },
  {
   "cell_type": "markdown",
   "metadata": {},
   "source": [
    "-----\n",
    "# Plotting results for best models for \"Access in 6 months\"\n",
    "- Overall performance\n",
    "- Precision-Recall curves (alternatively PPV-Sensitivity Trade-Off)\n",
    "- Feature importance"
   ]
  },
  {
   "cell_type": "code",
   "execution_count": null,
   "metadata": {},
   "outputs": [],
   "source": [
    "best_6months = {'sklearn.ensemble.RandomForestClassifier': 20854,\n",
    "                #'sklearn.tree.DecisionTreeClassifier': 20882,\n",
    "                'triage.component.catwalk.estimators.classifiers.ScaledLogisticRegression': 20892,\n",
    "                #'xgboost.sklearn.XGBClassifier': 20932,\n",
    "               'Expert Rules': 21065}\n",
    "\n",
    "labels = {'sklearn.ensemble.RandomForestClassifier': 'Random Forest (1000 trees, no max depth)',\n",
    "          'triage.component.catwalk.estimators.classifiers.ScaledLogisticRegression': \"Logistic Regression (L1 penalty)\",\n",
    "          'Expert Rules': \"Expert Baseline\"\n",
    "       }\n",
    "\n",
    "colors = {'sklearn.ensemble.RandomForestClassifier': '#00A1D5FF',\n",
    "          'baseline': '#374E55FF',\n",
    "          #'sklearn.tree.DecisionTreeClassifier': '#DF8F44FF',\n",
    "          'triage.component.catwalk.estimators.classifiers.ScaledLogisticRegression': \"#79AF97FF\",\n",
    "          'Expert Rules': \"#B24745FF\"\n",
    "         }"
   ]
  },
  {
   "cell_type": "code",
   "execution_count": null,
   "metadata": {},
   "outputs": [],
   "source": [
    "model_id_to_plot = utils.get_model_id_at_time(best_6months['sklearn.ensemble.RandomForestClassifier'], '2015-01-01')"
   ]
  },
  {
   "cell_type": "code",
   "execution_count": null,
   "metadata": {},
   "outputs": [],
   "source": [
    "# needed because we're ignoring the last partial year of data\n",
    "year_filter = lambda x: x[0].year < 2016"
   ]
  },
  {
   "cell_type": "code",
   "execution_count": null,
   "metadata": {},
   "outputs": [],
   "source": [
    "metric = 'precision@'\n",
    "parameter = '10.0_pct'\n",
    "sns.set_style(\"whitegrid\")\n",
    "fig, ax = plt.subplots(1,figsize=(24, 10))\n",
    "sns.set_context(\"poster\", font_scale=1, rc={\"lines.linewidth\": 4,\"lines.markersize\":12})\n",
    "_ = plt.ylim(0,1)\n",
    "_ = plt.ylabel(f'{metric}:{parameter}')\n",
    "\n",
    "for clf, model_group_id in best_6months.items():\n",
    "    label = labels[clf]\n",
    "    x,y = utils.get_model_evaluation(model_group_id,metric,parameter, filter_x=year_filter)\n",
    "    _ = plt.plot(x,y,label=label,marker='o',linestyle='-',color=colors[clf])\n",
    "\n",
    "x_baseline, y_baseline = utils.get_model_evaluation(model_group_id,metric,'100.0_pct', filter_x=year_filter)\n",
    "_ = plt.plot(x_baseline,y_baseline,label='Prior',marker='o',linestyle='-',color=colors['baseline'])\n",
    "_ = plt.ylabel(\"Positive Predictive Value \\n(Top 10% of scores are predicted positive)\", fontsize=24)\n",
    "_ = plt.xlabel(\"Year of Appointment for Validation Cohort\", fontsize=24)\n",
    "    \n",
    "_ = plt.legend(bbox_to_anchor=(0., .85, 1., .102), loc='upper center', ncol=2, borderaxespad=0., fontsize=24)"
   ]
  },
  {
   "cell_type": "code",
   "execution_count": null,
   "metadata": {
    "scrolled": false
   },
   "outputs": [],
   "source": [
    "utils.plot_pr_at_k_for_model(model_id_to_plot, \"Accessing care at 6 months\")"
   ]
  },
  {
   "cell_type": "code",
   "execution_count": null,
   "metadata": {},
   "outputs": [],
   "source": [
    "utils.plot_feature_imp(model_id_to_plot, max, 'Access in 6 months')"
   ]
  },
  {
   "cell_type": "code",
   "execution_count": null,
   "metadata": {},
   "outputs": [],
   "source": []
  }
 ],
 "metadata": {
  "kernelspec": {
   "display_name": "Python 3",
   "language": "python",
   "name": "python3"
  },
  "language_info": {
   "codemirror_mode": {
    "name": "ipython",
    "version": 3
   },
   "file_extension": ".py",
   "mimetype": "text/x-python",
   "name": "python",
   "nbconvert_exporter": "python",
   "pygments_lexer": "ipython3",
   "version": "3.6.6"
  }
 },
 "nbformat": 4,
 "nbformat_minor": 2
}
