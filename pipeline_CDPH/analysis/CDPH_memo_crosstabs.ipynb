{
 "cells": [
  {
   "cell_type": "code",
   "execution_count": null,
   "metadata": {},
   "outputs": [],
   "source": [
    "%load_ext autoreload\n",
    "%autoreload 2\n",
    "\n",
    "import os\n",
    "from sqlalchemy import create_engine\n",
    "import pandas as pd\n",
    "import numpy as np\n",
    "import seaborn as sns\n",
    "import aequitas\n",
    "from aequitas.group import Group\n",
    "from aequitas.bias import Bias\n",
    "from aequitas.fairness import Fairness\n",
    "from aequitas.plotting import Plot\n",
    "from aequitas.preprocessing import preprocess_input_df\n",
    "import ast\n",
    "\n",
    "import hivanalysis\n",
    "import hivanalysis.utils as utils\n",
    "import hivanalysis.get_models as get_models\n",
    "\n",
    "import matplotlib.pyplot as plt\n",
    "from sklearn.externals import joblib\n",
    "\n",
    "import warnings\n",
    "warnings.filterwarnings('ignore')\n",
    "\n",
    "from IPython.display import Image\n",
    "from IPython.core.interactiveshell import InteractiveShell\n",
    "InteractiveShell.ast_node_interactivity = \"all\"\n",
    "\n",
    "dburl = os.environ['DBURL']\n",
    "engine = create_engine(dburl)\n",
    "pd.set_option('display.max_columns',100)\n",
    "path_to_models = '/gpfs/data/dsapp-lab/triage-production_runs_small/trained_models/'\n",
    "path_to_matrices = '/gpfs/data/dsapp-lab/triage-production_runs_small/matrices/'"
   ]
  },
  {
   "cell_type": "code",
   "execution_count": null,
   "metadata": {},
   "outputs": [],
   "source": [
    "pd.options.display.max_rows"
   ]
  },
  {
   "cell_type": "markdown",
   "metadata": {},
   "source": [
    "-----"
   ]
  },
  {
   "cell_type": "code",
   "execution_count": null,
   "metadata": {},
   "outputs": [],
   "source": [
    "best_access_12mo_mid = 94982\n",
    "best_access_6mo_mid = None\n",
    "best_access_12mo_mg_id = 21144"
   ]
  },
  {
   "cell_type": "code",
   "execution_count": null,
   "metadata": {},
   "outputs": [],
   "source": [
    "def get_demographics():\n",
    "    query = f\"\"\"with gender_race_info as (\n",
    "        select distinct entity_id, \n",
    "            race_id, race,\n",
    "            gender_id,\n",
    "            case when transmission_category like '%%MSM%%' then 'MSM' else 'other' end as trans_categ_msm,\n",
    "            transmission_category\n",
    "        from features_cdph.demographics\n",
    "        join features_cdph.trans_categ using (entity_id)\n",
    "        join lookup_cdph.race using (race_id)\n",
    "        )\n",
    "        \n",
    "        select model_id, p.entity_id, p.as_of_date,\n",
    "                extract(year from p.as_of_date) as year,\n",
    "                label_value, \n",
    "                race, gender_id as gender, \n",
    "                trans_categ_msm, transmission_category\n",
    "        from test_results.predictions p\n",
    "        join gender_race_info using (entity_id)\n",
    "        join model_metadata.models using (model_id)\n",
    "        where model_group_id = {best_access_12mo_mg_id}\n",
    "        \"\"\"\n",
    "    demo = pd.read_sql(query, engine)\n",
    "    return(demo)\n",
    "demo = get_demographics() # just demographics; combine with predictions later\n",
    "demo.head()"
   ]
  },
  {
   "cell_type": "code",
   "execution_count": null,
   "metadata": {},
   "outputs": [],
   "source": [
    "def get_predictions(m_id):\n",
    "    q = f\"\"\"\n",
    "        select model_id, entity_id, as_of_date,\n",
    "            score\n",
    "        from test_results.predictions p\n",
    "        where model_id ={m_id}\n",
    "        \"\"\"\n",
    "    df = pd.read_sql(q, engine, parse_dates='as_of_date')\n",
    "    return (df)"
   ]
  },
  {
   "cell_type": "code",
   "execution_count": null,
   "metadata": {},
   "outputs": [],
   "source": [
    "def get_p_at_(m_id):\n",
    "    q = f\"\"\"\n",
    "        select value\n",
    "        from test_results.evaluations e\n",
    "        where metric='precision@' and parameter='10.0_pct'\n",
    "        and model_id={m_id}\n",
    "        \"\"\"\n",
    "    df = pd.read_sql(q, engine)\n",
    "    return(df.loc[0].to_dict())"
   ]
  },
  {
   "cell_type": "code",
   "execution_count": null,
   "metadata": {},
   "outputs": [],
   "source": [
    "def get_risk_categ(t):\n",
    "    if 'MSM' in t and 'IDU' in t:\n",
    "        return 'MSM_and_IDU'\n",
    "    elif 'MSM' in t:\n",
    "        return 'MSM'\n",
    "    elif 'IDU' in t:\n",
    "        return 'IDU'\n",
    "    else:\n",
    "        return 'Other'"
   ]
  },
  {
   "cell_type": "code",
   "execution_count": null,
   "metadata": {},
   "outputs": [],
   "source": [
    "thresholds = {'rank_pct':[0.01]}\n",
    "\n",
    "pred = get_predictions(best_access_12mo_mid)\n",
    "#p_at_10 = get_p_at_(best_access_12mo_mid)\n",
    "df = pd.merge(pred, demo, on=['entity_id', 'as_of_date'])\n",
    "df = df.loc[df.groupby('entity_id')['label_value'].idxmax(), :]\n",
    "df['risk'] = df['transmission_category'].apply(lambda x: get_risk_categ(x))\n",
    "df = df[[\"entity_id\", \"score\", \"label_value\", \"race\", \"gender\", \"trans_categ_msm\", \"transmission_category\", \"risk\"]]\n",
    "g = Group()\n",
    "xtab, _ = g.get_crosstabs(df, thresholds)"
   ]
  },
  {
   "cell_type": "code",
   "execution_count": null,
   "metadata": {},
   "outputs": [],
   "source": [
    "xtab[['attribute_name', 'attribute_value', 'pp', 'group_size']]"
   ]
  },
  {
   "cell_type": "code",
   "execution_count": null,
   "metadata": {},
   "outputs": [],
   "source": [
    "a = xtab[xtab.attribute_name=='race'][['attribute_name', 'attribute_value', 'pp', 'group_size']]\n",
    "a['percent_pp'] = a.pp/a.pp.sum()*100\n",
    "a['percent_group'] = a.group_size/a.group_size.sum()*100\n",
    "a"
   ]
  },
  {
   "cell_type": "code",
   "execution_count": null,
   "metadata": {},
   "outputs": [],
   "source": [
    "utils.get_modelhash_testmatrix(best_access_12mo_mg_id, 2046)\n",
    "t =  pd.read_csv(path_to_matrices+'1eac69b12066fdbe4c81183a1818be92'+'.csv.gz', parse_dates=['as_of_date'])"
   ]
  },
  {
   "cell_type": "code",
   "execution_count": null,
   "metadata": {},
   "outputs": [],
   "source": [
    "t.tail()"
   ]
  },
  {
   "cell_type": "code",
   "execution_count": null,
   "metadata": {},
   "outputs": [],
   "source": [
    "pred['rank'] = pred['score'].rank(pct=True)\n",
    "pred['label'] = pred['rank'] > 0.99"
   ]
  },
  {
   "cell_type": "code",
   "execution_count": null,
   "metadata": {},
   "outputs": [],
   "source": [
    "p = pd.merge(pred, t, on =['entity_id', 'as_of_date'])"
   ]
  },
  {
   "cell_type": "code",
   "execution_count": null,
   "metadata": {},
   "outputs": [],
   "source": [
    "p.groupby('label')['cd4_entity_id_6months_cd4_avg'].agg([np.mean, np.std])\n",
    "p.groupby('label')['prevappts_entity_id_6months_completed_sum'].agg([np.mean, np.std])\n",
    "p.groupby('label')['prevappts_entity_id_all_days_bn_appts_avg'].agg([np.mean, np.std])"
   ]
  }
 ],
 "metadata": {
  "kernelspec": {
   "display_name": "Python 3",
   "language": "python",
   "name": "python3"
  },
  "language_info": {
   "codemirror_mode": {
    "name": "ipython",
    "version": 3
   },
   "file_extension": ".py",
   "mimetype": "text/x-python",
   "name": "python",
   "nbconvert_exporter": "python",
   "pygments_lexer": "ipython3",
   "version": "3.6.6"
  }
 },
 "nbformat": 4,
 "nbformat_minor": 2
}
